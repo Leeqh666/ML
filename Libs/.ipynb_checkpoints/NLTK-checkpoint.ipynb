{
 "cells": [
  {
   "cell_type": "markdown",
   "metadata": {},
   "source": [
    "***几种流行的机器学习库,模型***"
   ]
  },
  {
   "cell_type": "code",
   "execution_count": 7,
   "metadata": {},
   "outputs": [
    {
     "name": "stdout",
     "output_type": "stream",
     "text": [
      "[[0 1 1 0 1 1 0 0 2 1 0]\n",
      " [1 0 0 1 0 0 1 1 1 0 1]]\n",
      "[u'across', u'bedroom', u'cat', u'dog', u'in', u'is', u'kitchen', u'running', u'the', u'walking', u'was']\n"
     ]
    }
   ],
   "source": [
    "#存储字符串变量\n",
    "sent1 = 'The cat is walking in the bedroom'\n",
    "sent2 = 'A dog was running across the kitchen'\n",
    "\n",
    "from sklearn.feature_extraction.text import CountVectorizer\n",
    "count_vec = CountVectorizer()\n",
    "\n",
    "sentences=[sent1,sent2]\n",
    "\n",
    "print count_vec.fit_transform(sentences).toarray()\n",
    "print count_vec.get_feature_names()"
   ]
  },
  {
   "cell_type": "code",
   "execution_count": 24,
   "metadata": {},
   "outputs": [
    {
     "name": "stdout",
     "output_type": "stream",
     "text": [
      "[nltk_data] Downloading package averaged_perceptron_tagger to\n",
      "[nltk_data]     /home/leeqh/nltk_data...\n",
      "[nltk_data]   Package averaged_perceptron_tagger is already up-to-\n",
      "[nltk_data]       date!\n"
     ]
    },
    {
     "data": {
      "text/plain": [
       "True"
      ]
     },
     "execution_count": 24,
     "metadata": {},
     "output_type": "execute_result"
    }
   ],
   "source": [
    "import nltk\n",
    "# nltk.download('punkt')\n",
    "nltk.download('averaged_perceptron_tagger')"
   ]
  },
  {
   "cell_type": "code",
   "execution_count": 10,
   "metadata": {},
   "outputs": [
    {
     "name": "stdout",
     "output_type": "stream",
     "text": [
      "['The', 'cat', 'is', 'walking', 'in', 'the', 'bedroom'] ['A', 'dog', 'was', 'running', 'across', 'the', 'kitchen']\n"
     ]
    }
   ],
   "source": [
    "tokens_1 = nltk.word_tokenize(sent1)\n",
    "tokens_2 = nltk.word_tokenize(sent2)\n",
    "print tokens_1,tokens_2"
   ]
  },
  {
   "cell_type": "code",
   "execution_count": 12,
   "metadata": {},
   "outputs": [
    {
     "name": "stdout",
     "output_type": "stream",
     "text": [
      "['the', 'cat', 'is', u'walk', 'in', 'the', 'bedroom'] ['A', 'dog', u'wa', u'run', u'across', 'the', 'kitchen']\n"
     ]
    }
   ],
   "source": [
    "stemmer = nltk.stem.PorterStemmer()\n",
    "stem_1 = [stemmer.stem(t) for t in tokens_1]\n",
    "stem_2 = [stemmer.stem(t) for t in tokens_2]\n",
    "print stem_1,stem_2"
   ]
  },
  {
   "cell_type": "code",
   "execution_count": 23,
   "metadata": {},
   "outputs": [
    {
     "name": "stdout",
     "output_type": "stream",
     "text": [
      "[('The', 'DT'), ('cat', 'NN'), ('is', 'VBZ'), ('walking', 'VBG'), ('in', 'IN'), ('the', 'DT'), ('bedroom', 'NN')] [('A', 'DT'), ('dog', 'NN'), ('was', 'VBD'), ('running', 'VBG'), ('across', 'IN'), ('the', 'DT'), ('kitchen', 'NN')]\n"
     ]
    }
   ],
   "source": [
    "pos_tag_1 = nltk.tag.pos_tag(tokens_1)\n",
    "pos_tag_2 = nltk.tag.pos_tag(tokens_2)\n",
    "\n",
    "print pos_tag_1,pos_tag_2"
   ]
  }
 ],
 "metadata": {
  "kernelspec": {
   "display_name": "Python [conda env:Py2]",
   "language": "python",
   "name": "conda-env-Py2-py"
  },
  "language_info": {
   "codemirror_mode": {
    "name": "ipython",
    "version": 2
   },
   "file_extension": ".py",
   "mimetype": "text/x-python",
   "name": "python",
   "nbconvert_exporter": "python",
   "pygments_lexer": "ipython2",
   "version": "2.7.15"
  }
 },
 "nbformat": 4,
 "nbformat_minor": 2
}
