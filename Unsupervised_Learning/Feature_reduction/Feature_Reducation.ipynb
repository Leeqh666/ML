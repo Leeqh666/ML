{
 "cells": [
  {
   "cell_type": "markdown",
   "metadata": {},
   "source": [
    "***特征降维***"
   ]
  },
  {
   "cell_type": "code",
   "execution_count": 2,
   "metadata": {},
   "outputs": [],
   "source": [
    "import numpy as np\n",
    "import pandas as pd\n",
    "\n",
    "digits_train = pd.read_csv('https://archive.ics.uci.edu/ml/machine-learning-databases/optdigits/optdigits.tra',\n",
    "                          header = None)\n",
    "digits_test = pd.read_csv('https://archive.ics.uci.edu/ml/machine-learning-databases/optdigits/optdigits.tes',\n",
    "                          header = None)\n",
    "\n",
    "X_train = digits_train[np.arange(64)]\n",
    "y_train = digits_train[64]\n",
    "X_test = digits_test[np.arange(64)]\n",
    "y_test = digits_test[64]"
   ]
  },
  {
   "cell_type": "code",
   "execution_count": 5,
   "metadata": {},
   "outputs": [],
   "source": [
    "from sklearn.decomposition import PCA\n",
    "from sklearn.svm import LinearSVC\n",
    "\n",
    "svc = LinearSVC()\n",
    "svc.fit(X_train,y_train)\n",
    "svc_y_pred = svc.predict(X_test)\n",
    "\n",
    "estimator = PCA(n_components=20)\n",
    "pca_X_train = estimator.fit_transform(X_train)\n",
    "pca_X_test = estimator.transform(X_test)\n",
    "\n",
    "pca_svc = LinearSVC()\n",
    "pca_svc.fit(pca_X_train,y_train)\n",
    "pca_svc_y_pred = pca_svc.predict(pca_X_test)"
   ]
  },
  {
   "cell_type": "code",
   "execution_count": 8,
   "metadata": {},
   "outputs": [
    {
     "name": "stdout",
     "output_type": "stream",
     "text": [
      "0.9204229271007234\n",
      "             precision    recall  f1-score   support\n",
      "\n",
      "          0       0.99      0.98      0.99       178\n",
      "          1       0.91      0.94      0.93       182\n",
      "          2       0.98      0.96      0.97       177\n",
      "          3       0.74      0.98      0.85       183\n",
      "          4       0.94      0.97      0.96       181\n",
      "          5       0.90      0.93      0.92       182\n",
      "          6       0.99      0.98      0.99       181\n",
      "          7       0.98      0.91      0.94       179\n",
      "          8       0.95      0.75      0.84       174\n",
      "          9       0.88      0.79      0.83       180\n",
      "\n",
      "avg / total       0.93      0.92      0.92      1797\n",
      "\n",
      "0.9220923761825265\n",
      "             precision    recall  f1-score   support\n",
      "\n",
      "          0       0.96      0.97      0.97       178\n",
      "          1       0.82      0.88      0.85       182\n",
      "          2       1.00      0.94      0.97       177\n",
      "          3       0.95      0.91      0.93       183\n",
      "          4       0.93      0.97      0.95       181\n",
      "          5       0.87      0.97      0.92       182\n",
      "          6       0.95      0.98      0.96       181\n",
      "          7       0.97      0.89      0.93       179\n",
      "          8       0.91      0.84      0.88       174\n",
      "          9       0.87      0.85      0.86       180\n",
      "\n",
      "avg / total       0.92      0.92      0.92      1797\n",
      "\n"
     ]
    }
   ],
   "source": [
    "from sklearn.metrics import classification_report\n",
    "\n",
    "print svc.score(X_test,y_test)\n",
    "print classification_report(y_test,svc_y_pred,target_names = np.arange(10).astype(str))\n",
    "\n",
    "print pca_svc.score(pca_X_test,y_test)\n",
    "print classification_report(y_test,pca_svc_y_pred,target_names = np.arange(10).astype(str))"
   ]
  }
 ],
 "metadata": {
  "kernelspec": {
   "display_name": "Python [conda env:Py2]",
   "language": "python",
   "name": "conda-env-Py2-py"
  },
  "language_info": {
   "codemirror_mode": {
    "name": "ipython",
    "version": 2
   },
   "file_extension": ".py",
   "mimetype": "text/x-python",
   "name": "python",
   "nbconvert_exporter": "python",
   "pygments_lexer": "ipython2",
   "version": "2.7.15"
  }
 },
 "nbformat": 4,
 "nbformat_minor": 2
}
