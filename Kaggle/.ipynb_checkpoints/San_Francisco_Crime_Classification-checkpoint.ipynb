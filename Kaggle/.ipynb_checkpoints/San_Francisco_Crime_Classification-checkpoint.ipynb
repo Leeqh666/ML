{
 "cells": [
  {
   "cell_type": "markdown",
   "metadata": {},
   "source": [
    "***旧金山犯罪类型预测***"
   ]
  },
  {
   "cell_type": "code",
   "execution_count": 1,
   "metadata": {},
   "outputs": [],
   "source": [
    "#数据导入\n",
    "import pandas as pd\n",
    "import numpy as np\n",
    "import matplotlib.pyplot as plt\n",
    "import seaborn as sns\n",
    "import datetime\n",
    "import warnings\n",
    "warnings.filterwarnings('ignore')\n",
    "\n",
    "data = pd.read_csv('../Datasets/San Francisco Crime/train.csv',parse_dates = ['Dates'])"
   ]
  },
  {
   "cell_type": "code",
   "execution_count": 2,
   "metadata": {},
   "outputs": [
    {
     "name": "stdout",
     "output_type": "stream",
     "text": [
      "<class 'pandas.core.frame.DataFrame'>\n",
      "RangeIndex: 878049 entries, 0 to 878048\n",
      "Data columns (total 9 columns):\n",
      "Dates         878049 non-null datetime64[ns]\n",
      "Category      878049 non-null object\n",
      "Descript      878049 non-null object\n",
      "DayOfWeek     878049 non-null object\n",
      "PdDistrict    878049 non-null object\n",
      "Resolution    878049 non-null object\n",
      "Address       878049 non-null object\n",
      "X             878049 non-null float64\n",
      "Y             878049 non-null float64\n",
      "dtypes: datetime64[ns](1), float64(2), object(6)\n",
      "memory usage: 60.3+ MB\n",
      "None\n"
     ]
    },
    {
     "data": {
      "text/html": [
       "<div>\n",
       "<style scoped>\n",
       "    .dataframe tbody tr th:only-of-type {\n",
       "        vertical-align: middle;\n",
       "    }\n",
       "\n",
       "    .dataframe tbody tr th {\n",
       "        vertical-align: top;\n",
       "    }\n",
       "\n",
       "    .dataframe thead th {\n",
       "        text-align: right;\n",
       "    }\n",
       "</style>\n",
       "<table border=\"1\" class=\"dataframe\">\n",
       "  <thead>\n",
       "    <tr style=\"text-align: right;\">\n",
       "      <th></th>\n",
       "      <th>Dates</th>\n",
       "      <th>Category</th>\n",
       "      <th>Descript</th>\n",
       "      <th>DayOfWeek</th>\n",
       "      <th>PdDistrict</th>\n",
       "      <th>Resolution</th>\n",
       "      <th>Address</th>\n",
       "      <th>X</th>\n",
       "      <th>Y</th>\n",
       "    </tr>\n",
       "  </thead>\n",
       "  <tbody>\n",
       "    <tr>\n",
       "      <th>0</th>\n",
       "      <td>2015-05-13 23:53:00</td>\n",
       "      <td>WARRANTS</td>\n",
       "      <td>WARRANT ARREST</td>\n",
       "      <td>Wednesday</td>\n",
       "      <td>NORTHERN</td>\n",
       "      <td>ARREST, BOOKED</td>\n",
       "      <td>OAK ST / LAGUNA ST</td>\n",
       "      <td>-122.425892</td>\n",
       "      <td>37.774599</td>\n",
       "    </tr>\n",
       "    <tr>\n",
       "      <th>1</th>\n",
       "      <td>2015-05-13 23:53:00</td>\n",
       "      <td>OTHER OFFENSES</td>\n",
       "      <td>TRAFFIC VIOLATION ARREST</td>\n",
       "      <td>Wednesday</td>\n",
       "      <td>NORTHERN</td>\n",
       "      <td>ARREST, BOOKED</td>\n",
       "      <td>OAK ST / LAGUNA ST</td>\n",
       "      <td>-122.425892</td>\n",
       "      <td>37.774599</td>\n",
       "    </tr>\n",
       "    <tr>\n",
       "      <th>2</th>\n",
       "      <td>2015-05-13 23:33:00</td>\n",
       "      <td>OTHER OFFENSES</td>\n",
       "      <td>TRAFFIC VIOLATION ARREST</td>\n",
       "      <td>Wednesday</td>\n",
       "      <td>NORTHERN</td>\n",
       "      <td>ARREST, BOOKED</td>\n",
       "      <td>VANNESS AV / GREENWICH ST</td>\n",
       "      <td>-122.424363</td>\n",
       "      <td>37.800414</td>\n",
       "    </tr>\n",
       "    <tr>\n",
       "      <th>3</th>\n",
       "      <td>2015-05-13 23:30:00</td>\n",
       "      <td>LARCENY/THEFT</td>\n",
       "      <td>GRAND THEFT FROM LOCKED AUTO</td>\n",
       "      <td>Wednesday</td>\n",
       "      <td>NORTHERN</td>\n",
       "      <td>NONE</td>\n",
       "      <td>1500 Block of LOMBARD ST</td>\n",
       "      <td>-122.426995</td>\n",
       "      <td>37.800873</td>\n",
       "    </tr>\n",
       "    <tr>\n",
       "      <th>4</th>\n",
       "      <td>2015-05-13 23:30:00</td>\n",
       "      <td>LARCENY/THEFT</td>\n",
       "      <td>GRAND THEFT FROM LOCKED AUTO</td>\n",
       "      <td>Wednesday</td>\n",
       "      <td>PARK</td>\n",
       "      <td>NONE</td>\n",
       "      <td>100 Block of BRODERICK ST</td>\n",
       "      <td>-122.438738</td>\n",
       "      <td>37.771541</td>\n",
       "    </tr>\n",
       "  </tbody>\n",
       "</table>\n",
       "</div>"
      ],
      "text/plain": [
       "                Dates        Category                      Descript  \\\n",
       "0 2015-05-13 23:53:00        WARRANTS                WARRANT ARREST   \n",
       "1 2015-05-13 23:53:00  OTHER OFFENSES      TRAFFIC VIOLATION ARREST   \n",
       "2 2015-05-13 23:33:00  OTHER OFFENSES      TRAFFIC VIOLATION ARREST   \n",
       "3 2015-05-13 23:30:00   LARCENY/THEFT  GRAND THEFT FROM LOCKED AUTO   \n",
       "4 2015-05-13 23:30:00   LARCENY/THEFT  GRAND THEFT FROM LOCKED AUTO   \n",
       "\n",
       "   DayOfWeek PdDistrict      Resolution                    Address  \\\n",
       "0  Wednesday   NORTHERN  ARREST, BOOKED         OAK ST / LAGUNA ST   \n",
       "1  Wednesday   NORTHERN  ARREST, BOOKED         OAK ST / LAGUNA ST   \n",
       "2  Wednesday   NORTHERN  ARREST, BOOKED  VANNESS AV / GREENWICH ST   \n",
       "3  Wednesday   NORTHERN            NONE   1500 Block of LOMBARD ST   \n",
       "4  Wednesday       PARK            NONE  100 Block of BRODERICK ST   \n",
       "\n",
       "            X          Y  \n",
       "0 -122.425892  37.774599  \n",
       "1 -122.425892  37.774599  \n",
       "2 -122.424363  37.800414  \n",
       "3 -122.426995  37.800873  \n",
       "4 -122.438738  37.771541  "
      ]
     },
     "execution_count": 2,
     "metadata": {},
     "output_type": "execute_result"
    }
   ],
   "source": [
    "#查看数据信息\n",
    "print data.info()\n",
    "data.head()"
   ]
  },
  {
   "cell_type": "code",
   "execution_count": 3,
   "metadata": {},
   "outputs": [
    {
     "name": "stdout",
     "output_type": "stream",
     "text": [
      "-122.510930378 -122.328979873\n",
      "count    878049.000000\n",
      "mean       -122.422755\n",
      "std           0.025293\n",
      "min        -122.510930\n",
      "25%        -122.432952\n",
      "50%        -122.416420\n",
      "75%        -122.406959\n",
      "max        -122.328980\n",
      "Name: X, dtype: float64\n",
      "37.656603911 37.8801919977\n",
      "count    878049.000000\n",
      "mean         37.767043\n",
      "std           0.024184\n",
      "min          37.707879\n",
      "25%          37.752427\n",
      "50%          37.775421\n",
      "75%          37.784369\n",
      "max          37.880192\n",
      "Name: Y, dtype: float64\n"
     ]
    }
   ],
   "source": [
    "#清理异常值\n",
    "#For X\n",
    "IQR = data.X.quantile(0.75) - data.X.quantile(0.25)\n",
    "Lower_fence_X = data.X.quantile(0.25) - (IQR * 3)\n",
    "Upper_fence_X = data.X.quantile(0.75) + (IQR * 3)\n",
    "data.loc[data.X < Lower_fence_X, 'X'] = Lower_fence_X\n",
    "data.loc[data.X > Upper_fence_X, 'X'] = Upper_fence_X\n",
    "\n",
    "# For Y\n",
    "IQR = data.Y.quantile(0.75) - data.Y.quantile(0.25)\n",
    "Lower_fence_Y = data.Y.quantile(0.25) - (IQR * 3)\n",
    "Upper_fence_Y = data.Y.quantile(0.75) + (IQR * 3)\n",
    "data.loc[data.Y < Lower_fence_Y, 'Y'] = Lower_fence_Y\n",
    "data.loc[data.Y > Upper_fence_Y, 'Y'] = Upper_fence_Y\n",
    "\n",
    "#查看去除异常值后X,Y的Summary信息\n",
    "print Lower_fence_X,Upper_fence_X\n",
    "print data.X.describe()\n",
    "print Lower_fence_Y,Upper_fence_Y\n",
    "print data.Y.describe()"
   ]
  },
  {
   "cell_type": "code",
   "execution_count": 4,
   "metadata": {},
   "outputs": [],
   "source": [
    "#犯罪发生的时间和月份可能对判断犯罪类型有所帮助,这里我们提取出来并作为稀疏矩阵存储.\n",
    "hour = data.Dates.dt.hour\n",
    "hours = pd.get_dummies(hour,prefix='Hour')\n",
    "month = data.Dates.dt.month\n",
    "months = pd.get_dummies(month,prefix='Month')\n",
    "day_of_week = pd.get_dummies(data['DayOfWeek'])\n",
    "districts = pd.get_dummies(data['PdDistrict'])"
   ]
  },
  {
   "cell_type": "code",
   "execution_count": 5,
   "metadata": {},
   "outputs": [],
   "source": [
    "feature_names = ['X','Y']\n",
    "X = pd.DataFrame(data[feature_names])\n",
    "y = pd.DataFrame(data['Category'])"
   ]
  },
  {
   "cell_type": "code",
   "execution_count": 6,
   "metadata": {},
   "outputs": [],
   "source": [
    "#将部分原始特征及生成的时间,月份构成新的数据集\n",
    "X = pd.concat([X,hours,months,day_of_week,districts],axis=1)\n",
    "#除了具体时间意外,犯罪是否发生在晚上也一个比较重要的因素,因此我们加入是否是夜晚这一特征\n",
    "X['Evening'] = hour\n",
    "X['Evening'] = X['Evening'].apply(lambda x:x in range(18,24) or x in range(0,7))\n",
    "X['Evening'] = X['Evening'].apply(lambda x:int(x))"
   ]
  },
  {
   "cell_type": "code",
   "execution_count": 7,
   "metadata": {},
   "outputs": [],
   "source": [
    "#将地址编码然后加入到特征中\n",
    "X['Block'] = data['Address'].str.contains('Block').map(int)\n",
    "address_dict = data['Address'].value_counts().to_dict()\n",
    "X.loc[:,'Address'] = data.loc[:,'Address'].map(address_dict)"
   ]
  },
  {
   "cell_type": "code",
   "execution_count": 8,
   "metadata": {
    "scrolled": true
   },
   "outputs": [],
   "source": [
    "#划分训练集与测试集\n",
    "from sklearn.model_selection import train_test_split\n",
    "X_train,X_test,y_train,y_test = train_test_split(X,y,test_size = 0.25,random_state = 33)"
   ]
  },
  {
   "cell_type": "code",
   "execution_count": 9,
   "metadata": {},
   "outputs": [],
   "source": [
    "#与手动向量化特征数据相比,使用DictVectorizer()会占用更多的内存\n",
    "# from sklearn.feature_extraction import DictVectorizer\n",
    "# dict_feature_vec = DictVectorizer(sparse = False)"
   ]
  },
  {
   "cell_type": "code",
   "execution_count": 10,
   "metadata": {},
   "outputs": [],
   "source": [
    "# #使用DictVectorizer对特征向量化\n",
    "# X_train = dict_feature_vec.fit_transform(X_train.to_dict(orient='record'))\n",
    "# X_test = dict_feature_vec.transform(X_test.to_dict(orient='record'))"
   ]
  },
  {
   "cell_type": "code",
   "execution_count": 11,
   "metadata": {},
   "outputs": [],
   "source": [
    "# 向量化后的特征信息\n",
    "# dict_feature_vec.feature_names_"
   ]
  },
  {
   "cell_type": "code",
   "execution_count": 12,
   "metadata": {},
   "outputs": [],
   "source": [
    "#对特征进行标准化处理\n",
    "from sklearn.preprocessing import StandardScaler\n",
    "scaler = StandardScaler()\n",
    "X_train = scaler.fit_transform(X_train)\n",
    "X_test = scaler.transform(X_test)"
   ]
  },
  {
   "cell_type": "code",
   "execution_count": 13,
   "metadata": {},
   "outputs": [],
   "source": [
    "#由于是多分类问题,这里对类别标签进行编码\n",
    "from sklearn.preprocessing import LabelEncoder\n",
    "class_le = LabelEncoder()\n",
    "y_train = class_le.fit_transform(y_train)\n",
    "y_test = class_le.transform(y_test)"
   ]
  },
  {
   "cell_type": "code",
   "execution_count": 31,
   "metadata": {},
   "outputs": [
    {
     "data": {
      "text/plain": [
       "'SUICIDE'"
      ]
     },
     "execution_count": 31,
     "metadata": {},
     "output_type": "execute_result"
    }
   ],
   "source": [
    "class_le.classes_[31]"
   ]
  },
  {
   "cell_type": "code",
   "execution_count": 14,
   "metadata": {},
   "outputs": [],
   "source": [
    "from sklearn.tree import DecisionTreeClassifier\n",
    "dtc = DecisionTreeClassifier()"
   ]
  },
  {
   "cell_type": "code",
   "execution_count": 14,
   "metadata": {},
   "outputs": [],
   "source": [
    "from sklearn.ensemble import RandomForestClassifier\n",
    "rfc = RandomForestClassifier(n_jobs=4)"
   ]
  },
  {
   "cell_type": "code",
   "execution_count": 18,
   "metadata": {},
   "outputs": [],
   "source": [
    "#使用XGBClassifier进行预测\n",
    "from xgboost import XGBClassifier\n",
    "xgbc = XGBClassifier(n_jobs=4)"
   ]
  },
  {
   "cell_type": "code",
   "execution_count": 19,
   "metadata": {},
   "outputs": [],
   "source": [
    "results = []\n",
    "models = {}\n",
    "models['DTC'] = dtc\n",
    "models['XGBoost'] = xgbc\n",
    "models['RFC'] = rfc"
   ]
  },
  {
   "cell_type": "code",
   "execution_count": 20,
   "metadata": {},
   "outputs": [
    {
     "name": "stdout",
     "output_type": "stream",
     "text": [
      "DTC : 0.229462 (0.001395)\n",
      "RFC : 0.288627 (0.001396)\n"
     ]
    },
    {
     "name": "stderr",
     "output_type": "stream",
     "text": [
      "/home/leeqh/anaconda3/envs/Py2/lib/python2.7/site-packages/sklearn/preprocessing/label.py:151: DeprecationWarning: The truth value of an empty array is ambiguous. Returning False, but in future this will result in an error. Use `array.size > 0` to check that an array is not empty.\n",
      "  if diff:\n",
      "/home/leeqh/anaconda3/envs/Py2/lib/python2.7/site-packages/sklearn/preprocessing/label.py:151: DeprecationWarning: The truth value of an empty array is ambiguous. Returning False, but in future this will result in an error. Use `array.size > 0` to check that an array is not empty.\n",
      "  if diff:\n",
      "/home/leeqh/anaconda3/envs/Py2/lib/python2.7/site-packages/sklearn/preprocessing/label.py:151: DeprecationWarning: The truth value of an empty array is ambiguous. Returning False, but in future this will result in an error. Use `array.size > 0` to check that an array is not empty.\n",
      "  if diff:\n",
      "/home/leeqh/anaconda3/envs/Py2/lib/python2.7/site-packages/sklearn/preprocessing/label.py:151: DeprecationWarning: The truth value of an empty array is ambiguous. Returning False, but in future this will result in an error. Use `array.size > 0` to check that an array is not empty.\n",
      "  if diff:\n"
     ]
    },
    {
     "name": "stdout",
     "output_type": "stream",
     "text": [
      "XGBoost : 0.262343 (0.000368)\n"
     ]
    },
    {
     "name": "stderr",
     "output_type": "stream",
     "text": [
      "/home/leeqh/anaconda3/envs/Py2/lib/python2.7/site-packages/sklearn/preprocessing/label.py:151: DeprecationWarning: The truth value of an empty array is ambiguous. Returning False, but in future this will result in an error. Use `array.size > 0` to check that an array is not empty.\n",
      "  if diff:\n"
     ]
    }
   ],
   "source": [
    "from sklearn.model_selection import cross_val_score\n",
    "for key in models:\n",
    "    cv_results = cross_val_score(models[key], X_train, y_train, cv=5, scoring='accuracy')\n",
    "    results.append(cv_results)\n",
    "    print('%s : %f (%f)' % (key, cv_results.mean(), cv_results.std()))"
   ]
  },
  {
   "cell_type": "code",
   "execution_count": 21,
   "metadata": {},
   "outputs": [
    {
     "data": {
      "image/png": "[encoded data removed]",
      "text/plain": [
       "<Figure size 432x288 with 1 Axes>"
      ]
     },
     "metadata": {},
     "output_type": "display_data"
    }
   ],
   "source": [
    "fig = plt.figure()\n",
    "fig.suptitle('Algorithm Comparision')\n",
    "ax = fig.add_subplot(111)\n",
    "plt.boxplot(results)\n",
    "ax.set_xticklabels(models)\n",
    "plt.show()    "
   ]
  },
  {
   "cell_type": "code",
   "execution_count": 22,
   "metadata": {},
   "outputs": [],
   "source": [
    "#从上面箱图可以看出随机森林更加适合解决这个问题\n",
    "#使用GridSearchCV寻找合适的超参数\n",
    "from sklearn.model_selection import GridSearchCV\n",
    "params = {\"n_estimators\":[50,75,100],\n",
    "          \"max_depth\":[10,13,17,20],\n",
    "          \"min_samples_leaf\":[1,2,4]}\n",
    "rfc_model = RandomForestClassifier(n_jobs=4,random_state=0)\n",
    "rfc_grid = GridSearchCV(estimator=rfc_model,param_grid=params,cv=5,verbose=True)"
   ]
  },
  {
   "cell_type": "code",
   "execution_count": null,
   "metadata": {},
   "outputs": [],
   "source": [
    "gs_result = rfc_grid.fit(X_train,y_train)"
   ]
  },
  {
   "cell_type": "code",
   "execution_count": null,
   "metadata": {},
   "outputs": [],
   "source": [
    "print gs_result.best_params"
   ]
  },
  {
   "cell_type": "code",
   "execution_count": 15,
   "metadata": {},
   "outputs": [],
   "source": [
    "#使用最好的参数配置训练模型\n",
    "rfc = RandomForestClassifier(n_estimators=100,max_depth=20,min_samples_leaf=1,\n",
    "                             n_jobs=4,random_state=0)"
   ]
  },
  {
   "cell_type": "code",
   "execution_count": 28,
   "metadata": {},
   "outputs": [
    {
     "data": {
      "text/plain": [
       "RandomForestClassifier(bootstrap=True, class_weight=None, criterion='gini',\n",
       "            max_depth=20, max_features='auto', max_leaf_nodes=None,\n",
       "            min_impurity_decrease=0.0, min_impurity_split=None,\n",
       "            min_samples_leaf=1, min_samples_split=2,\n",
       "            min_weight_fraction_leaf=0.0, n_estimators=100, n_jobs=4,\n",
       "            oob_score=False, random_state=0, verbose=0, warm_start=False)"
      ]
     },
     "execution_count": 28,
     "metadata": {},
     "output_type": "execute_result"
    }
   ],
   "source": [
    "rfc.fit(X_train,y_train)"
   ]
  },
  {
   "cell_type": "code",
   "execution_count": 29,
   "metadata": {},
   "outputs": [],
   "source": [
    "y_pred = rfc.predict(X_test)"
   ]
  },
  {
   "cell_type": "code",
   "execution_count": 17,
   "metadata": {},
   "outputs": [],
   "source": [
    "from sklearn.model_selection import learning_curve\n",
    "train_sizes,train_scores,test_scores = learning_curve(rfc,X_train,y_train,cv = 5,\n",
    "                                                      n_jobs=1,train_sizes=np.linspace(0.1,0.5,10))"
   ]
  },
  {
   "cell_type": "code",
   "execution_count": 22,
   "metadata": {},
   "outputs": [],
   "source": [
    "train_mean = list(map(np.mean,train_scores))\n",
    "test_mean = list(map(np.mean,test_scores))"
   ]
  },
  {
   "cell_type": "code",
   "execution_count": 26,
   "metadata": {},
   "outputs": [
    {
     "data": {
      "image/png": "[encoded data removed]",
      "text/plain": [
       "<Figure size 432x288 with 1 Axes>"
      ]
     },
     "metadata": {},
     "output_type": "display_data"
    }
   ],
   "source": [
    "plt.scatter(train_sizes,train_mean,c='green')\n",
    "plt.scatter(train_sizes,test_mean,c='blue')\n",
    "\n",
    "plt.plot(train_sizes,train_mean,c='green',label='Train')\n",
    "plt.plot(train_sizes,test_mean,c='blue',label='Test')\n",
    "plt.xlabel('Train Size')\n",
    "plt.ylabel('Accuracy')\n",
    "plt.show()"
   ]
  },
  {
   "cell_type": "code",
   "execution_count": 30,
   "metadata": {},
   "outputs": [
    {
     "name": "stdout",
     "output_type": "stream",
     "text": [
      "0.2921102622623717\n",
      "0.2921102622623717\n",
      "             precision    recall  f1-score   support\n",
      "\n",
      "          0       0.08      0.00      0.01       370\n",
      "          1       0.21      0.18      0.19     19179\n",
      "          2       0.00      0.00      0.00        91\n",
      "          3       0.00      0.00      0.00        69\n",
      "          4       0.21      0.03      0.05      9182\n",
      "          5       0.03      0.00      0.01      1088\n",
      "          6       0.00      0.00      0.00       589\n",
      "          7       0.32      0.42      0.36     13575\n",
      "          8       0.00      0.00      0.00      1020\n",
      "          9       0.22      0.01      0.01       273\n",
      "         10       0.00      0.00      0.00        62\n",
      "         11       0.33      0.01      0.02       116\n",
      "         12       0.18      0.01      0.02      2668\n",
      "         13       0.19      0.01      0.02      4216\n",
      "         14       0.00      0.00      0.00        40\n",
      "         15       0.00      0.00      0.00       573\n",
      "         16       0.29      0.78      0.43     43771\n",
      "         17       0.11      0.00      0.01       494\n",
      "         18       0.39      0.02      0.04       318\n",
      "         19       0.64      0.32      0.43      6588\n",
      "         20       0.25      0.12      0.17     23067\n",
      "         21       0.27      0.36      0.31     31472\n",
      "         22       0.00      0.00      0.00         5\n",
      "         23       0.56      0.63      0.59      1839\n",
      "         24       0.00      0.00      0.00       804\n",
      "         25       0.10      0.00      0.01      5703\n",
      "         26       0.51      0.14      0.22       452\n",
      "         27       0.04      0.00      0.00      2512\n",
      "         28       0.30      0.01      0.02      1118\n",
      "         29       0.00      0.00      0.00        33\n",
      "         30       0.05      0.00      0.00      1140\n",
      "         31       1.00      0.01      0.02       125\n",
      "         32       0.12      0.00      0.01      7828\n",
      "         33       0.00      0.00      0.00         2\n",
      "         34       0.10      0.01      0.02      1879\n",
      "         35       0.22      0.02      0.03     11217\n",
      "         36       0.37      0.19      0.25     13284\n",
      "         37       0.16      0.01      0.03     10585\n",
      "         38       0.21      0.01      0.02      2166\n",
      "\n",
      "avg / total       0.26      0.29      0.23    219513\n",
      "\n"
     ]
    }
   ],
   "source": [
    "from sklearn.metrics import classification_report\n",
    "from sklearn.metrics import accuracy_score\n",
    "\n",
    "print rfc.score(X_test,y_test)\n",
    "print accuracy_score(y_test,y_pred)\n",
    "print classification_report(y_test,y_pred)"
   ]
  }
 ],
 "metadata": {
  "kernelspec": {
   "display_name": "Python [conda env:Py2]",
   "language": "python",
   "name": "conda-env-Py2-py"
  },
  "language_info": {
   "codemirror_mode": {
    "name": "ipython",
    "version": 2
   },
   "file_extension": ".py",
   "mimetype": "text/x-python",
   "name": "python",
   "nbconvert_exporter": "python",
   "pygments_lexer": "ipython2",
   "version": "2.7.15"
  }
 },
 "nbformat": 4,
 "nbformat_minor": 2
}
