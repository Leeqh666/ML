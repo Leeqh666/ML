{
 "cells": [
  {
   "cell_type": "markdown",
   "metadata": {},
   "source": [
    "***使用CountVectorizer和TfidVectorizer进行特征提取***"
   ]
  },
  {
   "cell_type": "code",
   "execution_count": 1,
   "metadata": {},
   "outputs": [],
   "source": [
    "from sklearn.datasets import fetch_20newsgroups\n",
    "\n",
    "news = fetch_20newsgroups(subset = 'all')\n",
    "\n",
    "from sklearn.cross_validation import train_test_split\n",
    "\n",
    "X_train,X_test,y_train,y_test = train_test_split(news.data,news.target,test_size = 0.25,random_state = 33)"
   ]
  },
  {
   "cell_type": "code",
   "execution_count": 9,
   "metadata": {},
   "outputs": [
    {
     "name": "stdout",
     "output_type": "stream",
     "text": [
      "The accuracy of count_naive_bayes is: 0.8397707979626485\n",
      "                          precision    recall  f1-score   support\n",
      "\n",
      "             alt.atheism       0.86      0.86      0.86       201\n",
      "           comp.graphics       0.59      0.86      0.70       250\n",
      " comp.os.ms-windows.misc       0.89      0.10      0.17       248\n",
      "comp.sys.ibm.pc.hardware       0.60      0.88      0.72       240\n",
      "   comp.sys.mac.hardware       0.93      0.78      0.85       242\n",
      "          comp.windows.x       0.82      0.84      0.83       263\n",
      "            misc.forsale       0.91      0.70      0.79       257\n",
      "               rec.autos       0.89      0.89      0.89       238\n",
      "         rec.motorcycles       0.98      0.92      0.95       276\n",
      "      rec.sport.baseball       0.98      0.91      0.95       251\n",
      "        rec.sport.hockey       0.93      0.99      0.96       233\n",
      "               sci.crypt       0.86      0.98      0.91       238\n",
      "         sci.electronics       0.85      0.88      0.86       249\n",
      "                 sci.med       0.92      0.94      0.93       245\n",
      "               sci.space       0.89      0.96      0.92       221\n",
      "  soc.religion.christian       0.78      0.96      0.86       232\n",
      "      talk.politics.guns       0.88      0.96      0.92       251\n",
      "   talk.politics.mideast       0.90      0.98      0.94       231\n",
      "      talk.politics.misc       0.79      0.89      0.84       188\n",
      "      talk.religion.misc       0.93      0.44      0.60       158\n",
      "\n",
      "             avg / total       0.86      0.84      0.82      4712\n",
      "\n"
     ]
    }
   ],
   "source": [
    "#采用默认配置对CountVectorizer进行初始化\n",
    "from sklearn.feature_extraction.text import CountVectorizer\n",
    "\n",
    "count_vec = CountVectorizer()\n",
    "X_count_train = count_vec.fit_transform(X_train)\n",
    "X_count_test = count_vec.transform(X_test)\n",
    "\n",
    "from sklearn.naive_bayes import MultinomialNB\n",
    "mnb_count = MultinomialNB()\n",
    "mnb_count.fit(X_count_train,y_train)\n",
    "count_y_pred = mnb_count.predict(X_count_test)\n",
    "\n",
    "print 'The accuracy of count_naive_bayes is:',mnb_count.score(X_count_test,y_test)\n",
    "\n",
    "from sklearn.metrics import classification_report\n",
    "print classification_report(y_test,count_y_pred,target_names=news.target_names)"
   ]
  },
  {
   "cell_type": "code",
   "execution_count": 11,
   "metadata": {},
   "outputs": [
    {
     "name": "stdout",
     "output_type": "stream",
     "text": [
      "0.8463497453310697\n",
      "                          precision    recall  f1-score   support\n",
      "\n",
      "             alt.atheism       0.84      0.67      0.75       201\n",
      "           comp.graphics       0.85      0.74      0.79       250\n",
      " comp.os.ms-windows.misc       0.82      0.85      0.83       248\n",
      "comp.sys.ibm.pc.hardware       0.76      0.88      0.82       240\n",
      "   comp.sys.mac.hardware       0.94      0.84      0.89       242\n",
      "          comp.windows.x       0.96      0.84      0.89       263\n",
      "            misc.forsale       0.93      0.69      0.79       257\n",
      "               rec.autos       0.84      0.92      0.88       238\n",
      "         rec.motorcycles       0.98      0.92      0.95       276\n",
      "      rec.sport.baseball       0.96      0.91      0.94       251\n",
      "        rec.sport.hockey       0.88      0.99      0.93       233\n",
      "               sci.crypt       0.73      0.98      0.83       238\n",
      "         sci.electronics       0.91      0.83      0.87       249\n",
      "                 sci.med       0.97      0.92      0.95       245\n",
      "               sci.space       0.89      0.96      0.93       221\n",
      "  soc.religion.christian       0.51      0.97      0.67       232\n",
      "      talk.politics.guns       0.83      0.96      0.89       251\n",
      "   talk.politics.mideast       0.92      0.97      0.95       231\n",
      "      talk.politics.misc       0.98      0.62      0.76       188\n",
      "      talk.religion.misc       0.93      0.16      0.28       158\n",
      "\n",
      "             avg / total       0.87      0.85      0.84      4712\n",
      "\n"
     ]
    }
   ],
   "source": [
    "#采用默认配置对TfidfVectorizer进行初始化\n",
    "from sklearn.feature_extraction.text import TfidfVectorizer\n",
    "\n",
    "tfidf_vec = TfidfVectorizer()\n",
    "X_tfidf_train = tfidf_vec.fit_transform(X_train)\n",
    "X_tfidf_test = tfidf_vec.transform(X_test)\n",
    "\n",
    "mnb_tfidf = MultinomialNB()\n",
    "mnb_tfidf.fit(X_tfidf_train,y_train)\n",
    "tfidf_y_pred = mnb_tfidf.predict(X_tfidf_test)\n",
    "\n",
    "print mnb_tfidf.score(X_tfidf_test,y_test)\n",
    "print classification_report(y_test,tfidf_y_pred,target_names=news.target_names)"
   ]
  },
  {
   "cell_type": "code",
   "execution_count": 14,
   "metadata": {},
   "outputs": [
    {
     "name": "stdout",
     "output_type": "stream",
     "text": [
      "0.8637521222410866\n",
      "                          precision    recall  f1-score   support\n",
      "\n",
      "             alt.atheism       0.85      0.89      0.87       201\n",
      "           comp.graphics       0.62      0.88      0.73       250\n",
      " comp.os.ms-windows.misc       0.93      0.22      0.36       248\n",
      "comp.sys.ibm.pc.hardware       0.62      0.88      0.73       240\n",
      "   comp.sys.mac.hardware       0.93      0.85      0.89       242\n",
      "          comp.windows.x       0.82      0.85      0.84       263\n",
      "            misc.forsale       0.90      0.79      0.84       257\n",
      "               rec.autos       0.91      0.91      0.91       238\n",
      "         rec.motorcycles       0.98      0.94      0.96       276\n",
      "      rec.sport.baseball       0.98      0.92      0.95       251\n",
      "        rec.sport.hockey       0.92      0.99      0.95       233\n",
      "               sci.crypt       0.91      0.97      0.93       238\n",
      "         sci.electronics       0.87      0.89      0.88       249\n",
      "                 sci.med       0.94      0.95      0.95       245\n",
      "               sci.space       0.91      0.96      0.93       221\n",
      "  soc.religion.christian       0.87      0.94      0.90       232\n",
      "      talk.politics.guns       0.89      0.96      0.93       251\n",
      "   talk.politics.mideast       0.95      0.98      0.97       231\n",
      "      talk.politics.misc       0.84      0.90      0.87       188\n",
      "      talk.religion.misc       0.91      0.53      0.67       158\n",
      "\n",
      "             avg / total       0.88      0.86      0.85      4712\n",
      "\n",
      "0.8826400679117148\n",
      "                          precision    recall  f1-score   support\n",
      "\n",
      "             alt.atheism       0.86      0.81      0.83       201\n",
      "           comp.graphics       0.85      0.81      0.83       250\n",
      " comp.os.ms-windows.misc       0.84      0.87      0.86       248\n",
      "comp.sys.ibm.pc.hardware       0.78      0.88      0.83       240\n",
      "   comp.sys.mac.hardware       0.92      0.90      0.91       242\n",
      "          comp.windows.x       0.95      0.88      0.91       263\n",
      "            misc.forsale       0.90      0.80      0.85       257\n",
      "               rec.autos       0.89      0.92      0.90       238\n",
      "         rec.motorcycles       0.98      0.94      0.96       276\n",
      "      rec.sport.baseball       0.97      0.93      0.95       251\n",
      "        rec.sport.hockey       0.88      0.99      0.93       233\n",
      "               sci.crypt       0.85      0.98      0.91       238\n",
      "         sci.electronics       0.93      0.86      0.89       249\n",
      "                 sci.med       0.96      0.93      0.95       245\n",
      "               sci.space       0.90      0.97      0.93       221\n",
      "  soc.religion.christian       0.70      0.96      0.81       232\n",
      "      talk.politics.guns       0.84      0.98      0.90       251\n",
      "   talk.politics.mideast       0.92      0.99      0.95       231\n",
      "      talk.politics.misc       0.97      0.74      0.84       188\n",
      "      talk.religion.misc       0.96      0.29      0.45       158\n",
      "\n",
      "             avg / total       0.89      0.88      0.88      4712\n",
      "\n"
     ]
    }
   ],
   "source": [
    "#使用停用词(Stop words)过滤化配置初始化CountVectorizer,TfidfVectorizer\n",
    "count_filter_vec,tfidf_filter_vec = CountVectorizer(analyzer='word',stop_words='english'),TfidfVectorizer(analyzer='word',stop_words='english')\n",
    "\n",
    "X_count_filter_train = count_filter_vec.fit_transform(X_train)\n",
    "X_count_filter_test = count_filter_vec.transform(X_test)\n",
    "\n",
    "X_tfidf_filter_train = tfidf_filter_vec.fit_transform(X_train)\n",
    "X_tfidf_filter_test = tfidf_filter_vec.transform(X_test)\n",
    "\n",
    "mnb_count_filter = MultinomialNB()\n",
    "mnb_count_filter.fit(X_count_filter_train,y_train)\n",
    "count_filter_y_pred = mnb_count_filter.predict(X_count_filter_test)\n",
    "\n",
    "print mnb_count_filter.score(X_count_filter_test,y_test)\n",
    "print classification_report(y_test,count_filter_y_pred,target_names=news.target_names)\n",
    "\n",
    "mnb_tfidf_filter = MultinomialNB()\n",
    "mnb_tfidf_filter.fit(X_tfidf_filter_train,y_train)\n",
    "tfidf_filter_y_pred = mnb_tfidf_filter.predict(X_tfidf_filter_test)\n",
    "print mnb_tfidf_filter.score(X_tfidf_filter_test,y_test)\n",
    "print classification_report(y_test,tfidf_filter_y_pred,target_names=news.target_names)"
   ]
  }
 ],
 "metadata": {
  "kernelspec": {
   "display_name": "Python [conda env:Py2]",
   "language": "python",
   "name": "conda-env-Py2-py"
  },
  "language_info": {
   "codemirror_mode": {
    "name": "ipython",
    "version": 2
   },
   "file_extension": ".py",
   "mimetype": "text/x-python",
   "name": "python",
   "nbconvert_exporter": "python",
   "pygments_lexer": "ipython2",
   "version": "2.7.15"
  }
 },
 "nbformat": 4,
 "nbformat_minor": 2
}
