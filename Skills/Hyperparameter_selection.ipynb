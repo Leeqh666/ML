{
 "cells": [
  {
   "cell_type": "markdown",
   "metadata": {},
   "source": [
    "***超参数搜索***\n",
    "<br></br>\n",
    "<p>多数情况下,超参数的选择是无限的,因此我们选择通过启发式搜索的方法对超参数组合进行调优,称为网格搜索.</p>\n",
    "<br></br>\n",
    "<p>同时由于超参数的验证过程之间彼此独立,因此为并行计算提供了可能,成为并行搜索.</p>"
   ]
  },
  {
   "cell_type": "code",
   "execution_count": 4,
   "metadata": {},
   "outputs": [],
   "source": [
    "#数据集导入\n",
    "from sklearn.datasets import fetch_20newsgroups\n",
    "import numpy as np\n",
    "\n",
    "news = fetch_20newsgroups(subset = 'all')\n",
    "\n",
    "from sklearn.cross_validation import train_test_split\n",
    "X_train,X_test,y_train,y_test = train_test_split(news.data[:3000],news.target[:3000],\n",
    "                                                 test_size = 0.25,random_state = 33)"
   ]
  },
  {
   "cell_type": "code",
   "execution_count": 6,
   "metadata": {},
   "outputs": [],
   "source": [
    "from sklearn.svm import SVC\n",
    "#文本抽取\n",
    "from sklearn.feature_extraction.text import TfidfVectorizer\n",
    "#导入Pipeline(管道)\n",
    "from sklearn.pipeline import Pipeline\n",
    "\n",
    "clf = Pipeline([('vect',TfidfVectorizer(stop_words='english',analyzer='word')),('svc',SVC())])"
   ]
  },
  {
   "cell_type": "markdown",
   "metadata": {},
   "source": [
    "np.logspace(start, stop, num=50, endpoint=True, base=10.0, dtype=None)\n",
    "<br></br>\n",
    "产生大小在10<sup>start</sup>至10<sup>stop</sup>之间的数量为num的随机数."
   ]
  },
  {
   "cell_type": "code",
   "execution_count": 15,
   "metadata": {},
   "outputs": [
    {
     "name": "stdout",
     "output_type": "stream",
     "text": [
      "Fitting 3 folds for each of 12 candidates, totalling 36 fits\n",
      "[CV] svc__gamma=0.01, svc__C=0.1 .....................................\n",
      "[CV] ............................ svc__gamma=0.01, svc__C=0.1 -   6.9s\n",
      "[CV] svc__gamma=0.01, svc__C=0.1 .....................................\n"
     ]
    },
    {
     "name": "stderr",
     "output_type": "stream",
     "text": [
      "[Parallel(n_jobs=1)]: Done   1 out of   1 | elapsed:    7.0s remaining:    0.0s\n"
     ]
    },
    {
     "name": "stdout",
     "output_type": "stream",
     "text": [
      "[CV] ............................ svc__gamma=0.01, svc__C=0.1 -   6.8s\n",
      "[CV] svc__gamma=0.01, svc__C=0.1 .....................................\n",
      "[CV] ............................ svc__gamma=0.01, svc__C=0.1 -   7.0s\n",
      "[CV] svc__gamma=0.021544346900318832, svc__C=0.1 .....................\n",
      "[CV] ............ svc__gamma=0.021544346900318832, svc__C=0.1 -   6.6s\n",
      "[CV] svc__gamma=0.021544346900318832, svc__C=0.1 .....................\n",
      "[CV] ............ svc__gamma=0.021544346900318832, svc__C=0.1 -   6.7s\n",
      "[CV] svc__gamma=0.021544346900318832, svc__C=0.1 .....................\n",
      "[CV] ............ svc__gamma=0.021544346900318832, svc__C=0.1 -   6.9s\n",
      "[CV] svc__gamma=0.046415888336127774, svc__C=0.1 .....................\n",
      "[CV] ............ svc__gamma=0.046415888336127774, svc__C=0.1 -   6.7s\n",
      "[CV] svc__gamma=0.046415888336127774, svc__C=0.1 .....................\n",
      "[CV] ............ svc__gamma=0.046415888336127774, svc__C=0.1 -   6.8s\n",
      "[CV] svc__gamma=0.046415888336127774, svc__C=0.1 .....................\n",
      "[CV] ............ svc__gamma=0.046415888336127774, svc__C=0.1 -   7.0s\n",
      "[CV] svc__gamma=0.1, svc__C=0.1 ......................................\n",
      "[CV] ............................. svc__gamma=0.1, svc__C=0.1 -   6.8s\n",
      "[CV] svc__gamma=0.1, svc__C=0.1 ......................................\n",
      "[CV] ............................. svc__gamma=0.1, svc__C=0.1 -   6.9s\n",
      "[CV] svc__gamma=0.1, svc__C=0.1 ......................................\n",
      "[CV] ............................. svc__gamma=0.1, svc__C=0.1 -   6.9s\n",
      "[CV] svc__gamma=0.01, svc__C=1.0 .....................................\n",
      "[CV] ............................ svc__gamma=0.01, svc__C=1.0 -   6.7s\n",
      "[CV] svc__gamma=0.01, svc__C=1.0 .....................................\n",
      "[CV] ............................ svc__gamma=0.01, svc__C=1.0 -   6.8s\n",
      "[CV] svc__gamma=0.01, svc__C=1.0 .....................................\n",
      "[CV] ............................ svc__gamma=0.01, svc__C=1.0 -   6.8s\n",
      "[CV] svc__gamma=0.021544346900318832, svc__C=1.0 .....................\n",
      "[CV] ............ svc__gamma=0.021544346900318832, svc__C=1.0 -   6.9s\n",
      "[CV] svc__gamma=0.021544346900318832, svc__C=1.0 .....................\n",
      "[CV] ............ svc__gamma=0.021544346900318832, svc__C=1.0 -   6.9s\n",
      "[CV] svc__gamma=0.021544346900318832, svc__C=1.0 .....................\n",
      "[CV] ............ svc__gamma=0.021544346900318832, svc__C=1.0 -   7.0s\n",
      "[CV] svc__gamma=0.046415888336127774, svc__C=1.0 .....................\n",
      "[CV] ............ svc__gamma=0.046415888336127774, svc__C=1.0 -   6.8s\n",
      "[CV] svc__gamma=0.046415888336127774, svc__C=1.0 .....................\n",
      "[CV] ............ svc__gamma=0.046415888336127774, svc__C=1.0 -   6.9s\n",
      "[CV] svc__gamma=0.046415888336127774, svc__C=1.0 .....................\n",
      "[CV] ............ svc__gamma=0.046415888336127774, svc__C=1.0 -   7.0s\n",
      "[CV] svc__gamma=0.1, svc__C=1.0 ......................................\n",
      "[CV] ............................. svc__gamma=0.1, svc__C=1.0 -   6.7s\n",
      "[CV] svc__gamma=0.1, svc__C=1.0 ......................................\n",
      "[CV] ............................. svc__gamma=0.1, svc__C=1.0 -   6.9s\n",
      "[CV] svc__gamma=0.1, svc__C=1.0 ......................................\n",
      "[CV] ............................. svc__gamma=0.1, svc__C=1.0 -   6.9s\n",
      "[CV] svc__gamma=0.01, svc__C=10.0 ....................................\n",
      "[CV] ........................... svc__gamma=0.01, svc__C=10.0 -   6.9s\n",
      "[CV] svc__gamma=0.01, svc__C=10.0 ....................................\n",
      "[CV] ........................... svc__gamma=0.01, svc__C=10.0 -   7.1s\n",
      "[CV] svc__gamma=0.01, svc__C=10.0 ....................................\n",
      "[CV] ........................... svc__gamma=0.01, svc__C=10.0 -   7.1s\n",
      "[CV] svc__gamma=0.021544346900318832, svc__C=10.0 ....................\n",
      "[CV] ........... svc__gamma=0.021544346900318832, svc__C=10.0 -   6.6s\n",
      "[CV] svc__gamma=0.021544346900318832, svc__C=10.0 ....................\n",
      "[CV] ........... svc__gamma=0.021544346900318832, svc__C=10.0 -   6.6s\n",
      "[CV] svc__gamma=0.021544346900318832, svc__C=10.0 ....................\n",
      "[CV] ........... svc__gamma=0.021544346900318832, svc__C=10.0 -   6.7s\n",
      "[CV] svc__gamma=0.046415888336127774, svc__C=10.0 ....................\n",
      "[CV] ........... svc__gamma=0.046415888336127774, svc__C=10.0 -   6.8s\n",
      "[CV] svc__gamma=0.046415888336127774, svc__C=10.0 ....................\n",
      "[CV] ........... svc__gamma=0.046415888336127774, svc__C=10.0 -   7.0s\n",
      "[CV] svc__gamma=0.046415888336127774, svc__C=10.0 ....................\n",
      "[CV] ........... svc__gamma=0.046415888336127774, svc__C=10.0 -   6.9s\n",
      "[CV] svc__gamma=0.1, svc__C=10.0 .....................................\n",
      "[CV] ............................ svc__gamma=0.1, svc__C=10.0 -   6.7s\n",
      "[CV] svc__gamma=0.1, svc__C=10.0 .....................................\n",
      "[CV] ............................ svc__gamma=0.1, svc__C=10.0 -   6.8s\n",
      "[CV] svc__gamma=0.1, svc__C=10.0 .....................................\n",
      "[CV] ............................ svc__gamma=0.1, svc__C=10.0 -   6.9s\n"
     ]
    },
    {
     "name": "stderr",
     "output_type": "stream",
     "text": [
      "[Parallel(n_jobs=1)]: Done  36 out of  36 | elapsed:  4.1min finished\n"
     ]
    },
    {
     "name": "stdout",
     "output_type": "stream",
     "text": [
      "CPU times: user 4min 24s, sys: 276 ms, total: 4min 25s\n",
      "Wall time: 4min 18s\n"
     ]
    }
   ],
   "source": [
    "parameters = {'svc__gamma':np.logspace(-2,-1,4),'svc__C':np.logspace(-1,1,3)}\n",
    "\n",
    "#网格搜索,cv表示交叉验证的次数,refit=True,表示程序将会在得到最佳的超参数后,对训练集和测试集重新进行训练.\n",
    "from sklearn.grid_search import GridSearchCV\n",
    "gs = GridSearchCV(clf,parameters,verbose = 2,refit = True,cv = 3)\n",
    "%time _= gs.fit(X_train,y_train)"
   ]
  },
  {
   "cell_type": "code",
   "execution_count": 16,
   "metadata": {},
   "outputs": [
    {
     "name": "stdout",
     "output_type": "stream",
     "text": [
      "{'svc__gamma': 0.1, 'svc__C': 10.0} 0.790666666667\n",
      "0.8226666666666667\n"
     ]
    }
   ],
   "source": [
    "#输出最佳模型的参数及得分信息\n",
    "print gs.best_params_,gs.best_score_\n",
    "print gs.score(X_test,y_test)"
   ]
  },
  {
   "cell_type": "code",
   "execution_count": 17,
   "metadata": {},
   "outputs": [
    {
     "name": "stdout",
     "output_type": "stream",
     "text": [
      "Fitting 3 folds for each of 12 candidates, totalling 36 fits\n",
      "[CV] svc__gamma=0.01, svc__C=0.1 .....................................\n",
      "[CV] svc__gamma=0.01, svc__C=0.1 .....................................\n",
      "[CV] svc__gamma=0.01, svc__C=0.1 .....................................\n",
      "[CV] svc__gamma=0.021544346900318832, svc__C=0.1 .....................\n",
      "[CV] ............ svc__gamma=0.021544346900318832, svc__C=0.1 -   9.8s\n",
      "[CV] svc__gamma=0.021544346900318832, svc__C=0.1 .....................\n",
      "[CV] ............................ svc__gamma=0.01, svc__C=0.1 -  11.6s\n",
      "[CV] svc__gamma=0.021544346900318832, svc__C=0.1 .....................\n",
      "[CV] ............................ svc__gamma=0.01, svc__C=0.1 -  11.9s\n",
      "[CV] svc__gamma=0.046415888336127774, svc__C=0.1 .....................\n",
      "[CV] ............................ svc__gamma=0.01, svc__C=0.1 -  12.7s\n",
      "[CV] svc__gamma=0.046415888336127774, svc__C=0.1 .....................\n",
      "[CV] ............ svc__gamma=0.021544346900318832, svc__C=0.1 -  12.1s\n",
      "[CV] svc__gamma=0.046415888336127774, svc__C=0.1 .....................\n",
      "[CV] ............ svc__gamma=0.021544346900318832, svc__C=0.1 -  10.9s\n",
      "[CV] svc__gamma=0.1, svc__C=0.1 ......................................\n",
      "[CV] ............ svc__gamma=0.046415888336127774, svc__C=0.1 -  10.9s\n",
      "[CV] svc__gamma=0.1, svc__C=0.1 ......................................\n",
      "[CV] ............ svc__gamma=0.046415888336127774, svc__C=0.1 -  13.1s\n",
      "[CV] svc__gamma=0.1, svc__C=0.1 ......................................\n",
      "[CV] ............ svc__gamma=0.046415888336127774, svc__C=0.1 -  11.8s\n",
      "[CV] svc__gamma=0.01, svc__C=1.0 .....................................\n",
      "[CV] ............................. svc__gamma=0.1, svc__C=0.1 -  11.4s\n",
      "[CV] ............................. svc__gamma=0.1, svc__C=0.1 -  11.2s\n",
      "[CV] svc__gamma=0.01, svc__C=1.0 .....................................\n",
      "[CV] svc__gamma=0.01, svc__C=1.0 .....................................\n",
      "[CV] ............................. svc__gamma=0.1, svc__C=0.1 -  13.0s\n",
      "[CV] svc__gamma=0.021544346900318832, svc__C=1.0 .....................\n",
      "[CV] ............................ svc__gamma=0.01, svc__C=1.0 -  10.1s\n",
      "[CV] svc__gamma=0.021544346900318832, svc__C=1.0 .....................\n",
      "[CV] ............................ svc__gamma=0.01, svc__C=1.0 -  11.1s\n",
      "[CV] svc__gamma=0.021544346900318832, svc__C=1.0 .....................\n",
      "[CV] ............................ svc__gamma=0.01, svc__C=1.0 -  12.6s\n",
      "[CV] svc__gamma=0.046415888336127774, svc__C=1.0 .....................\n",
      "[CV] ............ svc__gamma=0.021544346900318832, svc__C=1.0 -  11.9s\n",
      "[CV] svc__gamma=0.046415888336127774, svc__C=1.0 .....................\n",
      "[CV] ............ svc__gamma=0.021544346900318832, svc__C=1.0 -  10.5s\n",
      "[CV] svc__gamma=0.046415888336127774, svc__C=1.0 .....................\n",
      "[CV] ............ svc__gamma=0.021544346900318832, svc__C=1.0 -  11.7s\n",
      "[CV] svc__gamma=0.1, svc__C=1.0 ......................................\n",
      "[CV] ............ svc__gamma=0.046415888336127774, svc__C=1.0 -  11.0s\n",
      "[CV] svc__gamma=0.1, svc__C=1.0 ......................................\n",
      "[CV] ............ svc__gamma=0.046415888336127774, svc__C=1.0 -  12.6s\n",
      "[CV] svc__gamma=0.1, svc__C=1.0 ......................................\n",
      "[CV] ............ svc__gamma=0.046415888336127774, svc__C=1.0 -  12.5s\n",
      "[CV] svc__gamma=0.01, svc__C=10.0 ....................................\n",
      "[CV] ............................. svc__gamma=0.1, svc__C=1.0 -  11.0s\n",
      "[CV] svc__gamma=0.01, svc__C=10.0 ....................................\n",
      "[CV] ............................. svc__gamma=0.1, svc__C=1.0 -  11.2s\n",
      "[CV] svc__gamma=0.01, svc__C=10.0 ....................................\n",
      "[CV] ............................. svc__gamma=0.1, svc__C=1.0 -  10.7s\n",
      "[CV] svc__gamma=0.021544346900318832, svc__C=10.0 ....................\n",
      "[CV] ........................... svc__gamma=0.01, svc__C=10.0 -  11.5s\n",
      "[CV] ........................... svc__gamma=0.01, svc__C=10.0 -  11.1s\n",
      "[CV] svc__gamma=0.021544346900318832, svc__C=10.0 ....................\n",
      "[CV] svc__gamma=0.021544346900318832, svc__C=10.0 ....................\n",
      "[CV] ........................... svc__gamma=0.01, svc__C=10.0 -  12.0s\n",
      "[CV] svc__gamma=0.046415888336127774, svc__C=10.0 ....................\n",
      "[CV] ........... svc__gamma=0.021544346900318832, svc__C=10.0 -   9.6s\n",
      "[CV] svc__gamma=0.046415888336127774, svc__C=10.0 ....................\n",
      "[CV] ........... svc__gamma=0.021544346900318832, svc__C=10.0 -  10.3s\n",
      "[CV] svc__gamma=0.046415888336127774, svc__C=10.0 ....................\n",
      "[CV] ........... svc__gamma=0.021544346900318832, svc__C=10.0 -  11.8s\n",
      "[CV] svc__gamma=0.1, svc__C=10.0 .....................................\n",
      "[CV] ........... svc__gamma=0.046415888336127774, svc__C=10.0 -  11.7s\n",
      "[CV] svc__gamma=0.1, svc__C=10.0 .....................................\n",
      "[CV] ........... svc__gamma=0.046415888336127774, svc__C=10.0 -  10.3s\n",
      "[CV] svc__gamma=0.1, svc__C=10.0 .....................................\n",
      "[CV] ........... svc__gamma=0.046415888336127774, svc__C=10.0 -  10.9s\n",
      "[CV] ............................ svc__gamma=0.1, svc__C=10.0 -  11.1s\n",
      "[CV] ............................ svc__gamma=0.1, svc__C=10.0 -  10.2s\n",
      "[CV] ............................ svc__gamma=0.1, svc__C=10.0 -  10.0s\n"
     ]
    },
    {
     "name": "stderr",
     "output_type": "stream",
     "text": [
      "[Parallel(n_jobs=-1)]: Done  36 out of  36 | elapsed:  1.7min finished\n"
     ]
    },
    {
     "name": "stdout",
     "output_type": "stream",
     "text": [
      "CPU times: user 13.5 s, sys: 128 ms, total: 13.6 s\n",
      "Wall time: 1min 56s\n"
     ]
    }
   ],
   "source": [
    "#使用多线程并行搜索技术进行网格搜索\n",
    "multithreading_gs = GridSearchCV(clf,parameters,verbose=2,refit=True,cv=3,n_jobs=-1)\n",
    "%time _ = multithreading_gs.fit(X_train,y_train)\n"
   ]
  },
  {
   "cell_type": "code",
   "execution_count": 18,
   "metadata": {},
   "outputs": [
    {
     "name": "stdout",
     "output_type": "stream",
     "text": [
      "{'svc__gamma': 0.1, 'svc__C': 10.0} 0.790666666667\n",
      "0.8226666666666667\n"
     ]
    }
   ],
   "source": [
    "#输出模型的最佳参数以及得分情况\n",
    "print gs.best_params_,gs.best_score_\n",
    "print gs.score(X_test,y_test)"
   ]
  }
 ],
 "metadata": {
  "kernelspec": {
   "display_name": "Python [conda env:Py2]",
   "language": "python",
   "name": "conda-env-Py2-py"
  },
  "language_info": {
   "codemirror_mode": {
    "name": "ipython",
    "version": 2
   },
   "file_extension": ".py",
   "mimetype": "text/x-python",
   "name": "python",
   "nbconvert_exporter": "python",
   "pygments_lexer": "ipython2",
   "version": "2.7.15"
  }
 },
 "nbformat": 4,
 "nbformat_minor": 2
}
