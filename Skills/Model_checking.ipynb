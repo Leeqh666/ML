{
 "cells": [
  {
   "cell_type": "markdown",
   "metadata": {},
   "source": [
    "***模型检验***\n",
    "<br></br>\n",
    "1. 留一验证(Leave-one-out cross validation):从任务提供的数据中随机采样一定比例作为训练集,剩下的\"留做\"验证,通常这个比例为7:3.<p>通常这一验证方法优化的模型性能不稳定,原因在于对验证集合随机采样的不确定性.</p>\n",
    "2. 交叉验证(K-foldcross validation):可以理解为从事了多次留一验证的过程.**每次检验所使用的验证集之间呢是互斥的,并且保证每一条可用数据都被模型验证过**\n"
   ]
  }
 ],
 "metadata": {
  "kernelspec": {
   "display_name": "Python [conda env:Py2]",
   "language": "python",
   "name": "conda-env-Py2-py"
  },
  "language_info": {
   "codemirror_mode": {
    "name": "ipython",
    "version": 2
   },
   "file_extension": ".py",
   "mimetype": "text/x-python",
   "name": "python",
   "nbconvert_exporter": "python",
   "pygments_lexer": "ipython2",
   "version": "2.7.15"
  }
 },
 "nbformat": 4,
 "nbformat_minor": 2
}
