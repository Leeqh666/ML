{
 "cells": [
  {
   "cell_type": "markdown",
   "metadata": {},
   "source": [
    "***K近邻回归***"
   ]
  },
  {
   "cell_type": "code",
   "execution_count": 18,
   "metadata": {},
   "outputs": [
    {
     "name": "stdout",
     "output_type": "stream",
     "text": [
      "['', '/home/leeqh/anaconda3/envs/Py2/lib/python27.zip', '/home/leeqh/anaconda3/envs/Py2/lib/python2.7', '/home/leeqh/anaconda3/envs/Py2/lib/python2.7/plat-linux2', '/home/leeqh/anaconda3/envs/Py2/lib/python2.7/lib-tk', '/home/leeqh/anaconda3/envs/Py2/lib/python2.7/lib-old', '/home/leeqh/anaconda3/envs/Py2/lib/python2.7/lib-dynload', '/home/leeqh/anaconda3/envs/Py2/lib/python2.7/site-packages', '/home/leeqh/anaconda3/envs/Py2/lib/python2.7/site-packages/IPython/extensions', '/home/leeqh/.ipython', '/home/leeqh/Desktop/python-ml']\n"
     ]
    }
   ],
   "source": [
    "import sys\n",
    "now_path = '/home/leeqh/Desktop/python-ml'\n",
    "if now_path not in sys.path:\n",
    "    sys.path.append(now_path)\n",
    "print sys.path\n",
    "import Ipynb_importer\n",
    "import Load_Datasets as data"
   ]
  },
  {
   "cell_type": "code",
   "execution_count": 19,
   "metadata": {},
   "outputs": [],
   "source": [
    "from sklearn.neighbors import KNeighborsRegressor\n",
    "\n",
    "#预测方式为平均回归\n",
    "uni_knr = KNeighborsRegressor(weights='uniform')\n",
    "uni_knr.fit(data.X_train,data.y_train)\n",
    "uni_knr_pred = uni_knr.predict(data.X_test)\n",
    "#预测方式为距离加权回归\n",
    "dis_knr = KNeighborsRegressor(weights='distance')\n",
    "dis_knr.fit(data.X_train,data.y_train)\n",
    "dis_knr_pred = dis_knr.predict(data.X_test)"
   ]
  },
  {
   "cell_type": "code",
   "execution_count": 25,
   "metadata": {},
   "outputs": [
    {
     "name": "stdout",
     "output_type": "stream",
     "text": [
      "R-squared of uni_knr is: 0.6903454564606561\n",
      "mean_absolute_error of uni_knr is: 2.9680314960629928\n",
      "mean_squared_error of uni_knr is: 24.01101417322835\n",
      "R-squared of dis_knr is: 0.7197589970156353\n",
      "mean_absolute_error of dis_knr is: 2.8050568785108005\n",
      "mean_squared_error of dis_knr is: 21.730250160926044\n"
     ]
    }
   ],
   "source": [
    "#性能评估\n",
    "from sklearn.metrics import r2_score,mean_absolute_error,mean_squared_error\n",
    "\n",
    "print 'R-squared of uni_knr is:',uni_knr.score(data.X_test,data.y_test)\n",
    "print 'mean_absolute_error of uni_knr is:',mean_absolute_error(data.ss_y.inverse_transform(data.y_test),\n",
    "                                                              data.ss_y.inverse_transform(uni_knr_pred))\n",
    "print 'mean_squared_error of uni_knr is:',mean_squared_error(data.ss_y.inverse_transform(data.y_test),\n",
    "                                                            data.ss_y.inverse_transform(uni_knr_pred))\n",
    "\n",
    "print 'R-squared of dis_knr is:',dis_knr.score(data.X_test,data.y_test)\n",
    "print 'mean_absolute_error of dis_knr is:',mean_absolute_error(data.ss_y.inverse_transform(data.y_test),\n",
    "                                                              data.ss_y.inverse_transform(dis_knr_pred))\n",
    "print 'mean_squared_error of dis_knr is:',mean_squared_error(data.ss_y.inverse_transform(data.y_test),\n",
    "                                                            data.ss_y.inverse_transform(dis_knr_pred))"
   ]
  }
 ],
 "metadata": {
  "kernelspec": {
   "display_name": "Python [conda env:Py2]",
   "language": "python",
   "name": "conda-env-Py2-py"
  },
  "language_info": {
   "codemirror_mode": {
    "name": "ipython",
    "version": 2
   },
   "file_extension": ".py",
   "mimetype": "text/x-python",
   "name": "python",
   "nbconvert_exporter": "python",
   "pygments_lexer": "ipython2",
   "version": "2.7.15"
  }
 },
 "nbformat": 4,
 "nbformat_minor": 2
}
