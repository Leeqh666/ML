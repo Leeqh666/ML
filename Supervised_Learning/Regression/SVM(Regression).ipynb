{
 "cells": [
  {
   "cell_type": "markdown",
   "metadata": {},
   "source": [
    "***支持向量机(回归)***"
   ]
  },
  {
   "cell_type": "code",
   "execution_count": 1,
   "metadata": {},
   "outputs": [
    {
     "name": "stdout",
     "output_type": "stream",
     "text": [
      "['', '/home/leeqh/anaconda3/envs/Py2/lib/python27.zip', '/home/leeqh/anaconda3/envs/Py2/lib/python2.7', '/home/leeqh/anaconda3/envs/Py2/lib/python2.7/plat-linux2', '/home/leeqh/anaconda3/envs/Py2/lib/python2.7/lib-tk', '/home/leeqh/anaconda3/envs/Py2/lib/python2.7/lib-old', '/home/leeqh/anaconda3/envs/Py2/lib/python2.7/lib-dynload', '/home/leeqh/anaconda3/envs/Py2/lib/python2.7/site-packages', '/home/leeqh/anaconda3/envs/Py2/lib/python2.7/site-packages/IPython/extensions', '/home/leeqh/.ipython', '/home/leeqh/Desktop/python-ml']\n",
      "importing Jupyter notebook from Load_Datasets.ipynb\n",
      "Boston House Prices dataset\n",
      "===========================\n",
      "\n",
      "Notes\n",
      "------\n",
      "Data Set Characteristics:  \n",
      "\n",
      "    :Number of Instances: 506 \n",
      "\n",
      "    :Number of Attributes: 13 numeric/categorical predictive\n",
      "    \n",
      "    :Median Value (attribute 14) is usually the target\n",
      "\n",
      "    :Attribute Information (in order):\n",
      "        - CRIM     per capita crime rate by town\n",
      "        - ZN       proportion of residential land zoned for lots over 25,000 sq.ft.\n",
      "        - INDUS    proportion of non-retail business acres per town\n",
      "        - CHAS     Charles River dummy variable (= 1 if tract bounds river; 0 otherwise)\n",
      "        - NOX      nitric oxides concentration (parts per 10 million)\n",
      "        - RM       average number of rooms per dwelling\n",
      "        - AGE      proportion of owner-occupied units built prior to 1940\n",
      "        - DIS      weighted distances to five Boston employment centres\n",
      "        - RAD      index of accessibility to radial highways\n",
      "        - TAX      full-value property-tax rate per $10,000\n",
      "        - PTRATIO  pupil-teacher ratio by town\n",
      "        - B        1000(Bk - 0.63)^2 where Bk is the proportion of blacks by town\n",
      "        - LSTAT    % lower status of the population\n",
      "        - MEDV     Median value of owner-occupied homes in $1000's\n",
      "\n",
      "    :Missing Attribute Values: None\n",
      "\n",
      "    :Creator: Harrison, D. and Rubinfeld, D.L.\n",
      "\n",
      "This is a copy of UCI ML housing dataset.\n",
      "http://archive.ics.uci.edu/ml/datasets/Housing\n",
      "\n",
      "\n",
      "This dataset was taken from the StatLib library which is maintained at Carnegie Mellon University.\n",
      "\n",
      "The Boston house-price data of Harrison, D. and Rubinfeld, D.L. 'Hedonic\n",
      "prices and the demand for clean air', J. Environ. Economics & Management,\n",
      "vol.5, 81-102, 1978.   Used in Belsley, Kuh & Welsch, 'Regression diagnostics\n",
      "...', Wiley, 1980.   N.B. Various transformations are used in the table on\n",
      "pages 244-261 of the latter.\n",
      "\n",
      "The Boston house-price data has been used in many machine learning papers that address regression\n",
      "problems.   \n",
      "     \n",
      "**References**\n",
      "\n",
      "   - Belsley, Kuh & Welsch, 'Regression diagnostics: Identifying Influential Data and Sources of Collinearity', Wiley, 1980. 244-261.\n",
      "   - Quinlan,R. (1993). Combining Instance-Based and Model-Based Learning. In Proceedings on the Tenth International Conference of Machine Learning, 236-243, University of Massachusetts, Amherst. Morgan Kaufmann.\n",
      "   - many more! (see http://archive.ics.uci.edu/ml/datasets/Housing)\n",
      "\n",
      "The max target value is: 50.0\n",
      "The min target value is: 5.0\n",
      "The average target value is: 22.532806324110677\n",
      "(379,)\n",
      "(127,)\n",
      "(379, 1)\n",
      "(127, 1)\n",
      "(379,)\n",
      "(127,)\n"
     ]
    },
    {
     "name": "stderr",
     "output_type": "stream",
     "text": [
      "/home/leeqh/anaconda3/envs/Py2/lib/python2.7/site-packages/sklearn/cross_validation.py:41: DeprecationWarning: This module was deprecated in version 0.18 in favor of the model_selection module into which all the refactored classes and functions are moved. Also note that the interface of the new CV iterators are different from that of this module. This module will be removed in 0.20.\n",
      "  \"This module will be removed in 0.20.\", DeprecationWarning)\n"
     ]
    }
   ],
   "source": [
    "import sys\n",
    "now_path = '/home/leeqh/Desktop/python-ml'\n",
    "if now_path not in sys.path:\n",
    "    sys.path.append(now_path)\n",
    "print sys.path\n",
    "import Ipynb_importer\n",
    "import Load_Datasets as data"
   ]
  },
  {
   "cell_type": "code",
   "execution_count": 3,
   "metadata": {},
   "outputs": [],
   "source": [
    "from sklearn.svm import SVR\n",
    "\n",
    "linear_svr = SVR(kernel='linear')\n",
    "linear_svr.fit(data.X_train,data.y_train)\n",
    "linear_svr_pred = linear_svr.predict(data.X_test)\n",
    "\n",
    "poly_svr = SVR(kernel='poly')\n",
    "poly_svr.fit(data.X_train,data.y_train)\n",
    "poly_svr_pred = poly_svr.predict(data.X_test)\n",
    "\n",
    "rbf_svr = SVR(kernel='rbf')\n",
    "rbf_svr.fit(data.X_train,data.y_train)\n",
    "rbf_svr_pred = rbf_svr.predict(data.X_test)"
   ]
  },
  {
   "cell_type": "code",
   "execution_count": 7,
   "metadata": {},
   "outputs": [
    {
     "name": "stdout",
     "output_type": "stream",
     "text": [
      "R-squared of linear svr is: 0.651717097429608\n",
      "mean squared error of linear svr is: 27.0063071393243\n",
      "mean absolute error of linear svr is: 3.426672916872753\n",
      "R-squared of poly svr is: 0.40445405800289286\n",
      "mean_squared_error of poly_svr is: 46.1794033139523\n",
      "mean_absolute_error of poly_svr is: 3.75205926674149\n",
      "R-squared of rbf_svr is: 0.7564068912273935\n",
      "mean_squared_error of rbf_svr is: 18.888525000753493\n",
      "mean_absolute_error of rbf_svr is: 2.6075632979823276\n"
     ]
    }
   ],
   "source": [
    "from sklearn.metrics import r2_score,mean_squared_error,mean_absolute_error\n",
    "\n",
    "print 'R-squared of linear svr is:',linear_svr.score(data.X_test,data.y_test)\n",
    "print 'mean squared error of linear svr is:',mean_squared_error(data.ss_y.inverse_transform(data.y_test),\n",
    "                                                                data.ss_y.inverse_transform(linear_svr_pred))\n",
    "print 'mean absolute error of linear svr is:',mean_absolute_error(data.ss_y.inverse_transform(data.y_test),\n",
    "                                                                  data.ss_y.inverse_transform(linear_svr_pred))\n",
    "\n",
    "print 'R-squared of poly svr is:',poly_svr.score(data.X_test,data.y_test)\n",
    "print 'mean_squared_error of poly_svr is:',mean_squared_error(data.ss_y.inverse_transform(data.y_test),\n",
    "                                                              data.ss_y.inverse_transform(poly_svr_pred))\n",
    "print 'mean_absolute_error of poly_svr is:',mean_absolute_error(data.ss_y.inverse_transform(data.y_test),\n",
    "                                                                data.ss_y.inverse_transform(poly_svr_pred))\n",
    "\n",
    "print 'R-squared of rbf_svr is:',rbf_svr.score(data.X_test,data.y_test)\n",
    "print 'mean_squared_error of rbf_svr is:',mean_squared_error(data.ss_y.inverse_transform(data.y_test),\n",
    "                                                             data.ss_y.inverse_transform(rbf_svr_pred))\n",
    "print 'mean_absolute_error of rbf_svr is:',mean_absolute_error(data.ss_y.inverse_transform(data.y_test),\n",
    "                                                               data.ss_y.inverse_transform(rbf_svr_pred))"
   ]
  }
 ],
 "metadata": {
  "kernelspec": {
   "display_name": "Python [conda env:Py2]",
   "language": "python",
   "name": "conda-env-Py2-py"
  },
  "language_info": {
   "codemirror_mode": {
    "name": "ipython",
    "version": 2
   },
   "file_extension": ".py",
   "mimetype": "text/x-python",
   "name": "python",
   "nbconvert_exporter": "python",
   "pygments_lexer": "ipython2",
   "version": "2.7.15"
  },
  "nbpresent": {
   "slides": {},
   "themes": {
    "default": "5c2f395f-38b1-4d93-b2fd-f3e0a75b1c15",
    "theme": {
     "5c2f395f-38b1-4d93-b2fd-f3e0a75b1c15": {
      "backgrounds": {
       "dc7afa04-bf90-40b1-82a5-726e3cff5267": {
        "background-color": "31af15d2-7e15-44c5-ab5e-e04b16a89eff",
        "id": "dc7afa04-bf90-40b1-82a5-726e3cff5267"
       }
      },
      "id": "5c2f395f-38b1-4d93-b2fd-f3e0a75b1c15",
      "palette": {
       "19cc588f-0593-49c9-9f4b-e4d7cc113b1c": {
        "id": "19cc588f-0593-49c9-9f4b-e4d7cc113b1c",
        "rgb": [
         252,
         252,
         252
        ]
       },
       "31af15d2-7e15-44c5-ab5e-e04b16a89eff": {
        "id": "31af15d2-7e15-44c5-ab5e-e04b16a89eff",
        "rgb": [
         68,
         68,
         68
        ]
       },
       "50f92c45-a630-455b-aec3-788680ec7410": {
        "id": "50f92c45-a630-455b-aec3-788680ec7410",
        "rgb": [
         197,
         226,
         245
        ]
       },
       "c5cc3653-2ee1-402a-aba2-7caae1da4f6c": {
        "id": "c5cc3653-2ee1-402a-aba2-7caae1da4f6c",
        "rgb": [
         43,
         126,
         184
        ]
       },
       "efa7f048-9acb-414c-8b04-a26811511a21": {
        "id": "efa7f048-9acb-414c-8b04-a26811511a21",
        "rgb": [
         25.118061674008803,
         73.60176211453744,
         107.4819383259912
        ]
       }
      },
      "rules": {
       "a": {
        "color": "19cc588f-0593-49c9-9f4b-e4d7cc113b1c"
       },
       "blockquote": {
        "color": "50f92c45-a630-455b-aec3-788680ec7410",
        "font-size": 3
       },
       "code": {
        "font-family": "Anonymous Pro"
       },
       "h1": {
        "color": "19cc588f-0593-49c9-9f4b-e4d7cc113b1c",
        "font-family": "Merriweather",
        "font-size": 8
       },
       "h2": {
        "color": "19cc588f-0593-49c9-9f4b-e4d7cc113b1c",
        "font-family": "Merriweather",
        "font-size": 6
       },
       "h3": {
        "color": "50f92c45-a630-455b-aec3-788680ec7410",
        "font-family": "Lato",
        "font-size": 5.5
       },
       "h4": {
        "color": "c5cc3653-2ee1-402a-aba2-7caae1da4f6c",
        "font-family": "Lato",
        "font-size": 5
       },
       "h5": {
        "font-family": "Lato"
       },
       "h6": {
        "font-family": "Lato"
       },
       "h7": {
        "font-family": "Lato"
       },
       "li": {
        "color": "50f92c45-a630-455b-aec3-788680ec7410",
        "font-size": 3.25
       },
       "pre": {
        "font-family": "Anonymous Pro",
        "font-size": 4
       }
      },
      "text-base": {
       "color": "19cc588f-0593-49c9-9f4b-e4d7cc113b1c",
       "font-family": "Lato",
       "font-size": 4
      }
     }
    }
   }
  }
 },
 "nbformat": 4,
 "nbformat_minor": 2
}
