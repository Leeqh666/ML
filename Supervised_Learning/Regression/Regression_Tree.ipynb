{
 "cells": [
  {
   "cell_type": "markdown",
   "metadata": {},
   "source": [
    "***回归树***"
   ]
  },
  {
   "cell_type": "code",
   "execution_count": 12,
   "metadata": {},
   "outputs": [],
   "source": [
    "import sys\n",
    "now_path = '/home/leeqh/Desktop/python-ml'\n",
    "if now_path not in sys.path:\n",
    "    sys.path.append(now_path)\n",
    "import Ipynb_importer\n",
    "import Load_Datasets as data"
   ]
  },
  {
   "cell_type": "code",
   "execution_count": 13,
   "metadata": {},
   "outputs": [],
   "source": [
    "from sklearn.tree import DecisionTreeRegressor\n",
    "\n",
    "dtr = DecisionTreeRegressor()\n",
    "dtr.fit(data.X_train,data.y_train)\n",
    "dtr_pred = dtr.predict(data.X_test)"
   ]
  },
  {
   "cell_type": "code",
   "execution_count": 14,
   "metadata": {},
   "outputs": [
    {
     "name": "stdout",
     "output_type": "stream",
     "text": [
      "R-squared value of dtr is: 0.5456279312340071\n",
      "mean_squared_error of dtr is: 35.23259842519685\n",
      "mean_absolute_error of dtr is: 3.41259842519685\n"
     ]
    }
   ],
   "source": [
    "from sklearn.metrics import r2_score,mean_absolute_error,mean_squared_error\n",
    "\n",
    "print 'R-squared value of dtr is:',dtr.score(data.X_test,data.y_test)\n",
    "print 'mean_squared_error of dtr is:',mean_squared_error(data.ss_y.inverse_transform(data.y_test),\n",
    "                                                       data.ss_y.inverse_transform(dtr_pred))\n",
    "print 'mean_absolute_error of dtr is:',mean_absolute_error(data.ss_y.inverse_transform(data.y_test),\n",
    "                                                          data.ss_y.inverse_transform(dtr_pred))"
   ]
  },
  {
   "cell_type": "code",
   "execution_count": 15,
   "metadata": {},
   "outputs": [],
   "source": [
    "#集成回归模型\n",
    "from sklearn.ensemble import RandomForestRegressor,ExtraTreesRegressor,GradientBoostingRegressor\n",
    "\n",
    "rfr = RandomForestRegressor()\n",
    "rfr.fit(data.X_train,data.y_train)\n",
    "rfr_pred = rfr.predict(data.X_test)\n",
    "\n",
    "etr = ExtraTreesRegressor()\n",
    "etr.fit(data.X_train,data.y_train)\n",
    "etr_pred = etr.predict(data.X_test)\n",
    "\n",
    "gbr = GradientBoostingRegressor()\n",
    "gbr.fit(data.X_train,data.y_train)\n",
    "gbr_pred = gbr.predict(data.X_test)"
   ]
  },
  {
   "cell_type": "code",
   "execution_count": 16,
   "metadata": {},
   "outputs": [
    {
     "name": "stdout",
     "output_type": "stream",
     "text": [
      "R-squared value of rfr is: 0.7968561208716455\n",
      "mean_squared_error of rfr is: 15.752039370078739\n",
      "mean_absolute_error of rfr is: 2.4822047244094487\n",
      "R-squared value of etr is: 0.7978468655126862\n",
      "mean_squared_error of etr is: 15.675215748031492\n",
      "mean_absolute_error of etr is: 2.5379527559055113\n",
      "R-squared value of gbr is: 0.8402059814608118\n",
      "mean_squared_error of gbr is: 12.390635060887016\n",
      "mean_absolute_error of gbr is: 2.277992313428803\n"
     ]
    }
   ],
   "source": [
    "print 'R-squared value of rfr is:',rfr.score(data.X_test,data.y_test)\n",
    "print 'mean_squared_error of rfr is:',mean_squared_error(data.ss_y.inverse_transform(data.y_test),\n",
    "                                                       data.ss_y.inverse_transform(rfr_pred))\n",
    "print 'mean_absolute_error of rfr is:',mean_absolute_error(data.ss_y.inverse_transform(data.y_test),\n",
    "                                                          data.ss_y.inverse_transform(rfr_pred))\n",
    "\n",
    "print 'R-squared value of etr is:',etr.score(data.X_test,data.y_test)\n",
    "print 'mean_squared_error of etr is:',mean_squared_error(data.ss_y.inverse_transform(data.y_test),\n",
    "                                                       data.ss_y.inverse_transform(etr_pred))\n",
    "print 'mean_absolute_error of etr is:',mean_absolute_error(data.ss_y.inverse_transform(data.y_test),\n",
    "                                                          data.ss_y.inverse_transform(etr_pred))\n",
    "\n",
    "print 'R-squared value of gbr is:',gbr.score(data.X_test,data.y_test)\n",
    "print 'mean_squared_error of gbr is:',mean_squared_error(data.ss_y.inverse_transform(data.y_test),\n",
    "                                                       data.ss_y.inverse_transform(gbr_pred))\n",
    "print 'mean_absolute_error of gbr is:',mean_absolute_error(data.ss_y.inverse_transform(data.y_test),\n",
    "                                                          data.ss_y.inverse_transform(gbr_pred))"
   ]
  }
 ],
 "metadata": {
  "kernelspec": {
   "display_name": "Python [conda env:Py2]",
   "language": "python",
   "name": "conda-env-Py2-py"
  },
  "language_info": {
   "codemirror_mode": {
    "name": "ipython",
    "version": 2
   },
   "file_extension": ".py",
   "mimetype": "text/x-python",
   "name": "python",
   "nbconvert_exporter": "python",
   "pygments_lexer": "ipython2",
   "version": "2.7.15"
  }
 },
 "nbformat": 4,
 "nbformat_minor": 2
}
