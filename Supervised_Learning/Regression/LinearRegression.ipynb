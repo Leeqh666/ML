{
 "cells": [
  {
   "cell_type": "markdown",
   "metadata": {},
   "source": [
    "***回归预测***"
   ]
  },
  {
   "cell_type": "code",
   "execution_count": 1,
   "metadata": {},
   "outputs": [
    {
     "name": "stdout",
     "output_type": "stream",
     "text": [
      "['', '/home/leeqh/anaconda3/envs/Py2/lib/python27.zip', '/home/leeqh/anaconda3/envs/Py2/lib/python2.7', '/home/leeqh/anaconda3/envs/Py2/lib/python2.7/plat-linux2', '/home/leeqh/anaconda3/envs/Py2/lib/python2.7/lib-tk', '/home/leeqh/anaconda3/envs/Py2/lib/python2.7/lib-old', '/home/leeqh/anaconda3/envs/Py2/lib/python2.7/lib-dynload', '/home/leeqh/anaconda3/envs/Py2/lib/python2.7/site-packages', '/home/leeqh/anaconda3/envs/Py2/lib/python2.7/site-packages/IPython/extensions', '/home/leeqh/.ipython', '/home/leeqh/Desktop/python-ml']\n",
      "importing Jupyter notebook from Load_Datasets.ipynb\n",
      "Boston House Prices dataset\n",
      "===========================\n",
      "\n",
      "Notes\n",
      "------\n",
      "Data Set Characteristics:  \n",
      "\n",
      "    :Number of Instances: 506 \n",
      "\n",
      "    :Number of Attributes: 13 numeric/categorical predictive\n",
      "    \n",
      "    :Median Value (attribute 14) is usually the target\n",
      "\n",
      "    :Attribute Information (in order):\n",
      "        - CRIM     per capita crime rate by town\n",
      "        - ZN       proportion of residential land zoned for lots over 25,000 sq.ft.\n",
      "        - INDUS    proportion of non-retail business acres per town\n",
      "        - CHAS     Charles River dummy variable (= 1 if tract bounds river; 0 otherwise)\n",
      "        - NOX      nitric oxides concentration (parts per 10 million)\n",
      "        - RM       average number of rooms per dwelling\n",
      "        - AGE      proportion of owner-occupied units built prior to 1940\n",
      "        - DIS      weighted distances to five Boston employment centres\n",
      "        - RAD      index of accessibility to radial highways\n",
      "        - TAX      full-value property-tax rate per $10,000\n",
      "        - PTRATIO  pupil-teacher ratio by town\n",
      "        - B        1000(Bk - 0.63)^2 where Bk is the proportion of blacks by town\n",
      "        - LSTAT    % lower status of the population\n",
      "        - MEDV     Median value of owner-occupied homes in $1000's\n",
      "\n",
      "    :Missing Attribute Values: None\n",
      "\n",
      "    :Creator: Harrison, D. and Rubinfeld, D.L.\n",
      "\n",
      "This is a copy of UCI ML housing dataset.\n",
      "http://archive.ics.uci.edu/ml/datasets/Housing\n",
      "\n",
      "\n",
      "This dataset was taken from the StatLib library which is maintained at Carnegie Mellon University.\n",
      "\n",
      "The Boston house-price data of Harrison, D. and Rubinfeld, D.L. 'Hedonic\n",
      "prices and the demand for clean air', J. Environ. Economics & Management,\n",
      "vol.5, 81-102, 1978.   Used in Belsley, Kuh & Welsch, 'Regression diagnostics\n",
      "...', Wiley, 1980.   N.B. Various transformations are used in the table on\n",
      "pages 244-261 of the latter.\n",
      "\n",
      "The Boston house-price data has been used in many machine learning papers that address regression\n",
      "problems.   \n",
      "     \n",
      "**References**\n",
      "\n",
      "   - Belsley, Kuh & Welsch, 'Regression diagnostics: Identifying Influential Data and Sources of Collinearity', Wiley, 1980. 244-261.\n",
      "   - Quinlan,R. (1993). Combining Instance-Based and Model-Based Learning. In Proceedings on the Tenth International Conference of Machine Learning, 236-243, University of Massachusetts, Amherst. Morgan Kaufmann.\n",
      "   - many more! (see http://archive.ics.uci.edu/ml/datasets/Housing)\n",
      "\n",
      "The max target value is: 50.0\n",
      "The min target value is: 5.0\n",
      "The average target value is: 22.532806324110677\n",
      "(379,)\n",
      "(127,)\n",
      "(379, 1)\n",
      "(127, 1)\n",
      "(379,)\n",
      "(127,)\n"
     ]
    },
    {
     "name": "stderr",
     "output_type": "stream",
     "text": [
      "/home/leeqh/anaconda3/envs/Py2/lib/python2.7/site-packages/sklearn/cross_validation.py:41: DeprecationWarning: This module was deprecated in version 0.18 in favor of the model_selection module into which all the refactored classes and functions are moved. Also note that the interface of the new CV iterators are different from that of this module. This module will be removed in 0.20.\n",
      "  \"This module will be removed in 0.20.\", DeprecationWarning)\n"
     ]
    }
   ],
   "source": [
    "import sys\n",
    "now_path = '/home/leeqh/Desktop/python-ml'\n",
    "if now_path not in sys.path:\n",
    "    sys.path.append(now_path)\n",
    "print sys.path\n",
    "import Ipynb_importer\n",
    "import Load_Datasets as data"
   ]
  },
  {
   "cell_type": "code",
   "execution_count": 4,
   "metadata": {},
   "outputs": [],
   "source": [
    "# from sklearn.datasets import load_boston\n",
    "\n",
    "# boston = load_boston()\n",
    "# print boston.DESCR"
   ]
  },
  {
   "cell_type": "code",
   "execution_count": 5,
   "metadata": {},
   "outputs": [],
   "source": [
    "# from sklearn.cross_validation import train_test_split\n",
    "# import numpy as np\n",
    "# X=boston.data\n",
    "# y=boston.target\n",
    "\n",
    "# X_train,X_test,y_train,y_test = train_test_split(X,y,random_state = 33,test_size = 0.25)\n",
    "\n",
    "# print 'The max target value is:',np.max(y)\n",
    "# print 'The min target value is:',np.min(y)\n",
    "# print 'The average target value is:',np.mean(y)\n",
    "# print y_train.shape\n",
    "# print y_test.shape"
   ]
  },
  {
   "cell_type": "code",
   "execution_count": 8,
   "metadata": {},
   "outputs": [],
   "source": [
    "# from sklearn.preprocessing import StandardScaler\n",
    "\n",
    "# ss_X = StandardScaler()\n",
    "# ss_y = StandardScaler()\n",
    "\n",
    "# X_train = ss_X.fit_transform(X_train)\n",
    "# X_test = ss_X.transform(X_test)\n",
    "# #此处对真实房价也进行了标准化处理,尽管在标准化之后数据有了很大的变化,但是可以使用标准化器中的inverse_transform()函数进行还原.\n",
    "# #一维数据进行标准化时要将其转化为二维数据进行处理.如本例中对y_train,y_test进行reshape()\n",
    "# y_train = ss_y.fit_transform(y_train.reshape(-1,1))\n",
    "# y_test = ss_y.transform(y_test.reshape(-1,1))\n",
    "# print y_train.shape\n",
    "# print y_test.shape"
   ]
  },
  {
   "cell_type": "code",
   "execution_count": 2,
   "metadata": {},
   "outputs": [
    {
     "name": "stderr",
     "output_type": "stream",
     "text": [
      "/home/leeqh/anaconda3/envs/Py2/lib/python2.7/site-packages/sklearn/linear_model/stochastic_gradient.py:128: FutureWarning: max_iter and tol parameters have been added in <class 'sklearn.linear_model.stochastic_gradient.SGDRegressor'> in 0.19. If both are left unset, they default to max_iter=5 and tol=None. If tol is not None, max_iter defaults to max_iter=1000. From 0.21, default max_iter will be 1000, and default tol will be 1e-3.\n",
      "  \"and default tol will be 1e-3.\" % type(self), FutureWarning)\n"
     ]
    }
   ],
   "source": [
    "from sklearn.linear_model import LinearRegression\n",
    "lr = LinearRegression()\n",
    "lr.fit(data.X_train,data.y_train)\n",
    "lr_y_pred = lr.predict(data.X_test)\n",
    "\n",
    "from sklearn.linear_model import SGDRegressor\n",
    "sgdr = SGDRegressor()\n",
    "sgdr.fit(data.X_train,data.y_train)\n",
    "sgdr_y_pred = sgdr.predict(data.X_test)"
   ]
  },
  {
   "cell_type": "code",
   "execution_count": 5,
   "metadata": {},
   "outputs": [
    {
     "name": "stdout",
     "output_type": "stream",
     "text": [
      " The value of LinearRegression: 0.6763403830998702\n",
      "LinearRegression R-squared: 0.6763403830998702\n",
      "LinearRegression mean squared error: 25.096985692067726\n",
      "LinearRegression mean absolute error: 3.526123996398543\n",
      "The value of SGD: 0.6593672685086736\n",
      "SGD R-squared: 0.6593672685086736\n",
      "SGD mean squared error: 26.413102970228277\n",
      "SGD mean absolute error 3.5004228929156453\n"
     ]
    }
   ],
   "source": [
    "from sklearn.metrics import r2_score,mean_squared_error,mean_absolute_error\n",
    "print 'The value of LinearRegression:',lr.score(data.X_test,data.y_test)\n",
    "print 'LinearRegression R-squared:',r2_score(data.y_test,lr_y_pred)\n",
    "print 'LinearRegression mean squared error:',mean_squared_error(data.ss_y.inverse_transform(data.y_test),\n",
    "                                                                data.ss_y.inverse_transform(lr_y_pred))\n",
    "print 'LinearRegression mean absolute error:',mean_absolute_error(data.ss_y.inverse_transform(data.y_test),\n",
    "                                                                data.ss_y.inverse_transform(lr_y_pred))\n",
    "\n",
    "print 'The value of SGD:',sgdr.score(data.X_test,data.y_test)\n",
    "print 'SGD R-squared:',r2_score(data.y_test,sgdr_y_pred)\n",
    "print 'SGD mean squared error:',mean_squared_error(data.ss_y.inverse_transform(data.y_test),\n",
    "                                                  data.ss_y.inverse_transform(sgdr_y_pred))\n",
    "print 'SGD mean absolute error',mean_absolute_error(data.ss_y.inverse_transform(data.y_test),\n",
    "                                                   data.ss_y.inverse_transform(sgdr_y_pred))"
   ]
  }
 ],
 "metadata": {
  "kernelspec": {
   "display_name": "Python [conda env:Py2]",
   "language": "python",
   "name": "conda-env-Py2-py"
  },
  "language_info": {
   "codemirror_mode": {
    "name": "ipython",
    "version": 2
   },
   "file_extension": ".py",
   "mimetype": "text/x-python",
   "name": "python",
   "nbconvert_exporter": "python",
   "pygments_lexer": "ipython2",
   "version": "2.7.15"
  }
 },
 "nbformat": 4,
 "nbformat_minor": 2
}
