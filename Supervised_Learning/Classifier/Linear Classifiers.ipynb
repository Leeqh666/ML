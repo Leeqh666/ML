{
 "cells": [
  {
   "cell_type": "markdown",
   "metadata": {},
   "source": [
    "***数据预处理***"
   ]
  },
  {
   "cell_type": "code",
   "execution_count": 9,
   "metadata": {},
   "outputs": [
    {
     "name": "stdout",
     "output_type": "stream",
     "text": [
      "(683, 11)\n"
     ]
    }
   ],
   "source": [
    "import pandas as pd\n",
    "import numpy as np\n",
    "\n",
    "column_names = ['Sample code number','Clump Thickness','Uniformity of Cell Size','Uniformity of Cell Shape',\n",
    "               'Marginal Adhesion','Single Epithelial Cell Size','Bare Nuclei','Bland Chromatin','Normal Nucleoli','Mitoses',\n",
    "               'Class']\n",
    "\n",
    "data = pd.read_csv('https://archive.ics.uci.edu/ml/machine-learning-databases/breast-cancer-wisconsin/breast-cancer-wisconsin.data',\n",
    "                  names = column_names)\n",
    "\n",
    "data = data.replace(to_replace='?',value=np.nan)\n",
    "data = data.dropna(how = 'any')\n",
    "\n",
    "print data.shape"
   ]
  },
  {
   "cell_type": "markdown",
   "metadata": {},
   "source": [
    "***准备良/恶性肿瘤训练,测试数据***"
   ]
  },
  {
   "cell_type": "code",
   "execution_count": 12,
   "metadata": {},
   "outputs": [
    {
     "name": "stdout",
     "output_type": "stream",
     "text": [
      "2    344\n",
      "4    168\n",
      "Name: Class, dtype: int64\n",
      "2    100\n",
      "4     71\n",
      "Name: Class, dtype: int64\n"
     ]
    }
   ],
   "source": [
    "from sklearn.cross_validation import train_test_split\n",
    "\n",
    "X_train,X_test,y_train,y_test = train_test_split(data[column_names[1:10]],\n",
    "                                                 data[column_names[10]],test_size = 0.25,random_state = 33)\n",
    "\n",
    "print y_train.value_counts()\n",
    "\n",
    "print y_test.value_counts()"
   ]
  },
  {
   "cell_type": "markdown",
   "metadata": {},
   "source": [
    "***模型训练***"
   ]
  },
  {
   "cell_type": "code",
   "execution_count": 21,
   "metadata": {},
   "outputs": [],
   "source": [
    "from sklearn.preprocessing import StandardScaler\n",
    "from sklearn.linear_model import LogisticRegression,SGDClassifier\n",
    "\n",
    "ss = StandardScaler()\n",
    "X_train = ss.fit_transform(X_train)\n",
    "X_test = ss.fit_transform(X_test)\n",
    "\n",
    "lr = LogisticRegression()\n",
    "sgdc = SGDClassifier()\n",
    "\n",
    "lr.fit(X_train,y_train)\n",
    "lr_y_predict = lr.predict(X_test)\n",
    "\n",
    "sgdc.fit(X_train,y_train)\n",
    "sgdc_y_predict = sgdc.predict(X_test)"
   ]
  },
  {
   "cell_type": "markdown",
   "metadata": {},
   "source": [
    "***性能评测***"
   ]
  },
  {
   "cell_type": "code",
   "execution_count": 22,
   "metadata": {},
   "outputs": [
    {
     "name": "stdout",
     "output_type": "stream",
     "text": [
      "LR 0.9707602339181286\n",
      "             precision    recall  f1-score   support\n",
      "\n",
      "     Bengin       0.96      0.99      0.98       100\n",
      "  Malignant       0.99      0.94      0.96        71\n",
      "\n",
      "avg / total       0.97      0.97      0.97       171\n",
      "\n",
      "SGD 0.9239766081871345\n",
      "             precision    recall  f1-score   support\n",
      "\n",
      "     Bengin       0.88      1.00      0.94       100\n",
      "  Malignant       1.00      0.82      0.90        71\n",
      "\n",
      "avg / total       0.93      0.92      0.92       171\n",
      "\n"
     ]
    }
   ],
   "source": [
    "from sklearn.metrics import classification_report\n",
    "print 'LR',lr.score(X_test,y_test)\n",
    "print classification_report(y_test,lr_y_predict,target_names=['Bengin','Malignant'])\n",
    "\n",
    "print 'SGD',sgdc.score(X_test,y_test)\n",
    "print classification_report(y_test,sgdc_y_predict,target_names=['Bengin','Malignant'])"
   ]
  }
 ],
 "metadata": {
  "kernelspec": {
   "display_name": "Python [conda env:Py2]",
   "language": "python",
   "name": "conda-env-Py2-py"
  },
  "language_info": {
   "codemirror_mode": {
    "name": "ipython",
    "version": 2
   },
   "file_extension": ".py",
   "mimetype": "text/x-python",
   "name": "python",
   "nbconvert_exporter": "python",
   "pygments_lexer": "ipython2",
   "version": "2.7.15"
  }
 },
 "nbformat": 4,
 "nbformat_minor": 2
}
